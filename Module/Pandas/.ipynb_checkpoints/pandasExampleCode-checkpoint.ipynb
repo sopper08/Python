{
 "cells": [
  {
   "cell_type": "markdown",
   "metadata": {},
   "source": [
    "# PANDAS\n",
    "本章提供Pandas常用操作!"
   ]
  },
  {
   "cell_type": "markdown",
   "metadata": {},
   "source": [
    "## 首先匯入資料"
   ]
  },
  {
   "cell_type": "markdown",
   "metadata": {},
   "source": [
    "### 資料讀取"
   ]
  },
  {
   "cell_type": "markdown",
   "metadata": {},
   "source": [
    "#### CSV"
   ]
  },
  {
   "cell_type": "code",
   "execution_count": 7,
   "metadata": {},
   "outputs": [],
   "source": [
    "import pandas as pd\n",
    "import numpy as np\n",
    "df = pd.read_csv('testData.csv')"
   ]
  },
  {
   "cell_type": "markdown",
   "metadata": {},
   "source": [
    "### 產生資料"
   ]
  },
  {
   "cell_type": "markdown",
   "metadata": {},
   "source": [
    "#### Series"
   ]
  },
  {
   "cell_type": "markdown",
   "metadata": {},
   "source": [
    "##### 不指定index"
   ]
  },
  {
   "cell_type": "code",
   "execution_count": 8,
   "metadata": {},
   "outputs": [
    {
     "data": {
      "text/plain": [
       "0     1.0\n",
       "1     3.0\n",
       "2     6.0\n",
       "3     NaN\n",
       "4    44.0\n",
       "5     1.0\n",
       "dtype: float64"
      ]
     },
     "execution_count": 8,
     "metadata": {},
     "output_type": "execute_result"
    }
   ],
   "source": [
    "s1 = pd.Series([1, 3, 6, np.nan, 44, 1]) #不指定index\n",
    "s1"
   ]
  },
  {
   "cell_type": "markdown",
   "metadata": {},
   "source": [
    "##### 指定index"
   ]
  },
  {
   "cell_type": "code",
   "execution_count": 9,
   "metadata": {},
   "outputs": [
    {
     "data": {
      "text/plain": [
       "a    1\n",
       "c    2\n",
       "b    3\n",
       "dtype: int64"
      ]
     },
     "execution_count": 9,
     "metadata": {},
     "output_type": "execute_result"
    }
   ],
   "source": [
    "s2 = pd.Series([1, 2, 3], index={'a', 'b', 'c'}) #指定index\n",
    "s2"
   ]
  },
  {
   "cell_type": "markdown",
   "metadata": {},
   "source": [
    "#### DataFrame(表格)"
   ]
  },
  {
   "cell_type": "code",
   "execution_count": 10,
   "metadata": {},
   "outputs": [
    {
     "data": {
      "text/html": [
       "<div>\n",
       "<style scoped>\n",
       "    .dataframe tbody tr th:only-of-type {\n",
       "        vertical-align: middle;\n",
       "    }\n",
       "\n",
       "    .dataframe tbody tr th {\n",
       "        vertical-align: top;\n",
       "    }\n",
       "\n",
       "    .dataframe thead th {\n",
       "        text-align: right;\n",
       "    }\n",
       "</style>\n",
       "<table border=\"1\" class=\"dataframe\">\n",
       "  <thead>\n",
       "    <tr style=\"text-align: right;\">\n",
       "      <th></th>\n",
       "      <th>CLIENTCODE</th>\n",
       "      <th>YEARMONTH</th>\n",
       "    </tr>\n",
       "  </thead>\n",
       "  <tbody>\n",
       "    <tr>\n",
       "      <th>0</th>\n",
       "      <td>1</td>\n",
       "      <td>201301</td>\n",
       "    </tr>\n",
       "    <tr>\n",
       "      <th>1</th>\n",
       "      <td>1</td>\n",
       "      <td>201301</td>\n",
       "    </tr>\n",
       "    <tr>\n",
       "      <th>2</th>\n",
       "      <td>2</td>\n",
       "      <td>201301</td>\n",
       "    </tr>\n",
       "    <tr>\n",
       "      <th>3</th>\n",
       "      <td>1</td>\n",
       "      <td>201302</td>\n",
       "    </tr>\n",
       "    <tr>\n",
       "      <th>4</th>\n",
       "      <td>2</td>\n",
       "      <td>201302</td>\n",
       "    </tr>\n",
       "    <tr>\n",
       "      <th>5</th>\n",
       "      <td>2</td>\n",
       "      <td>201302</td>\n",
       "    </tr>\n",
       "    <tr>\n",
       "      <th>6</th>\n",
       "      <td>3</td>\n",
       "      <td>201302</td>\n",
       "    </tr>\n",
       "  </tbody>\n",
       "</table>\n",
       "</div>"
      ],
      "text/plain": [
       "   CLIENTCODE  YEARMONTH\n",
       "0           1     201301\n",
       "1           1     201301\n",
       "2           2     201301\n",
       "3           1     201302\n",
       "4           2     201302\n",
       "5           2     201302\n",
       "6           3     201302"
      ]
     },
     "execution_count": 10,
     "metadata": {},
     "output_type": "execute_result"
    }
   ],
   "source": [
    "s1 = pd.Series([1, 1, 2, 1, 2, 2, 3])\n",
    "s2 = pd.Series([201301, 201301, 201301, 201302, 201302, 201302, 201302])\n",
    "table = pd.DataFrame(\n",
    "    {\n",
    "        'CLIENTCODE': s1,\n",
    "        'YEARMONTH': s2\n",
    "    })\n",
    "table"
   ]
  },
  {
   "cell_type": "markdown",
   "metadata": {},
   "source": [
    "## 檢視資料"
   ]
  },
  {
   "cell_type": "markdown",
   "metadata": {},
   "source": [
    "### 檢視資料狀態"
   ]
  },
  {
   "cell_type": "code",
   "execution_count": 11,
   "metadata": {},
   "outputs": [
    {
     "data": {
      "text/plain": [
       "(31, 4)"
      ]
     },
     "execution_count": 11,
     "metadata": {},
     "output_type": "execute_result"
    }
   ],
   "source": [
    "df.shape #可以知道有多少比資料/變數, 代表31筆資料, 以及3個變數."
   ]
  },
  {
   "cell_type": "markdown",
   "metadata": {},
   "source": [
    "### 檢視變數型態"
   ]
  },
  {
   "cell_type": "code",
   "execution_count": 12,
   "metadata": {
    "scrolled": true
   },
   "outputs": [
    {
     "name": "stdout",
     "output_type": "stream",
     "text": [
      "<class 'pandas.core.frame.DataFrame'>\n",
      "RangeIndex: 31 entries, 0 to 30\n",
      "Data columns (total 4 columns):\n",
      "DateId                31 non-null object\n",
      "ShopId                31 non-null object\n",
      "TrackSourceTypeDef    31 non-null object\n",
      "Quantity              31 non-null int64\n",
      "dtypes: int64(1), object(3)\n",
      "memory usage: 1.0+ KB\n"
     ]
    }
   ],
   "source": [
    "df.info() #檢查變數為哪種型態"
   ]
  },
  {
   "cell_type": "markdown",
   "metadata": {},
   "source": [
    "### 檢視前幾筆資料"
   ]
  },
  {
   "cell_type": "code",
   "execution_count": 13,
   "metadata": {},
   "outputs": [
    {
     "data": {
      "text/html": [
       "<div>\n",
       "<style scoped>\n",
       "    .dataframe tbody tr th:only-of-type {\n",
       "        vertical-align: middle;\n",
       "    }\n",
       "\n",
       "    .dataframe tbody tr th {\n",
       "        vertical-align: top;\n",
       "    }\n",
       "\n",
       "    .dataframe thead th {\n",
       "        text-align: right;\n",
       "    }\n",
       "</style>\n",
       "<table border=\"1\" class=\"dataframe\">\n",
       "  <thead>\n",
       "    <tr style=\"text-align: right;\">\n",
       "      <th></th>\n",
       "      <th>DateId</th>\n",
       "      <th>ShopId</th>\n",
       "      <th>TrackSourceTypeDef</th>\n",
       "      <th>Quantity</th>\n",
       "    </tr>\n",
       "  </thead>\n",
       "  <tbody>\n",
       "    <tr>\n",
       "      <th>0</th>\n",
       "      <td>2017/1/1</td>\n",
       "      <td>A</td>\n",
       "      <td>App</td>\n",
       "      <td>5</td>\n",
       "    </tr>\n",
       "    <tr>\n",
       "      <th>1</th>\n",
       "      <td>2017/1/2</td>\n",
       "      <td>B</td>\n",
       "      <td>Web</td>\n",
       "      <td>3</td>\n",
       "    </tr>\n",
       "    <tr>\n",
       "      <th>2</th>\n",
       "      <td>2017/1/3</td>\n",
       "      <td>A</td>\n",
       "      <td>Web</td>\n",
       "      <td>4</td>\n",
       "    </tr>\n",
       "    <tr>\n",
       "      <th>3</th>\n",
       "      <td>2017/1/4</td>\n",
       "      <td>D</td>\n",
       "      <td>App</td>\n",
       "      <td>12</td>\n",
       "    </tr>\n",
       "    <tr>\n",
       "      <th>4</th>\n",
       "      <td>2017/1/5</td>\n",
       "      <td>A</td>\n",
       "      <td>Web</td>\n",
       "      <td>5</td>\n",
       "    </tr>\n",
       "  </tbody>\n",
       "</table>\n",
       "</div>"
      ],
      "text/plain": [
       "     DateId ShopId TrackSourceTypeDef  Quantity\n",
       "0  2017/1/1      A                App         5\n",
       "1  2017/1/2      B                Web         3\n",
       "2  2017/1/3      A                Web         4\n",
       "3  2017/1/4      D                App        12\n",
       "4  2017/1/5      A                Web         5"
      ]
     },
     "execution_count": 13,
     "metadata": {},
     "output_type": "execute_result"
    }
   ],
   "source": [
    "df.head() #預設列出前五筆資料, 若要顯示前N筆: dr.head(N)"
   ]
  },
  {
   "cell_type": "markdown",
   "metadata": {},
   "source": [
    "### 檢視後幾筆資料"
   ]
  },
  {
   "cell_type": "code",
   "execution_count": 14,
   "metadata": {},
   "outputs": [
    {
     "data": {
      "text/html": [
       "<div>\n",
       "<style scoped>\n",
       "    .dataframe tbody tr th:only-of-type {\n",
       "        vertical-align: middle;\n",
       "    }\n",
       "\n",
       "    .dataframe tbody tr th {\n",
       "        vertical-align: top;\n",
       "    }\n",
       "\n",
       "    .dataframe thead th {\n",
       "        text-align: right;\n",
       "    }\n",
       "</style>\n",
       "<table border=\"1\" class=\"dataframe\">\n",
       "  <thead>\n",
       "    <tr style=\"text-align: right;\">\n",
       "      <th></th>\n",
       "      <th>DateId</th>\n",
       "      <th>ShopId</th>\n",
       "      <th>TrackSourceTypeDef</th>\n",
       "      <th>Quantity</th>\n",
       "    </tr>\n",
       "  </thead>\n",
       "  <tbody>\n",
       "    <tr>\n",
       "      <th>26</th>\n",
       "      <td>2017/1/27</td>\n",
       "      <td>C</td>\n",
       "      <td>App</td>\n",
       "      <td>35</td>\n",
       "    </tr>\n",
       "    <tr>\n",
       "      <th>27</th>\n",
       "      <td>2017/1/28</td>\n",
       "      <td>B</td>\n",
       "      <td>Web</td>\n",
       "      <td>5</td>\n",
       "    </tr>\n",
       "    <tr>\n",
       "      <th>28</th>\n",
       "      <td>2017/1/29</td>\n",
       "      <td>C</td>\n",
       "      <td>Web</td>\n",
       "      <td>4</td>\n",
       "    </tr>\n",
       "    <tr>\n",
       "      <th>29</th>\n",
       "      <td>2017/1/30</td>\n",
       "      <td>B</td>\n",
       "      <td>App</td>\n",
       "      <td>12</td>\n",
       "    </tr>\n",
       "    <tr>\n",
       "      <th>30</th>\n",
       "      <td>2017/1/31</td>\n",
       "      <td>A</td>\n",
       "      <td>Web</td>\n",
       "      <td>2</td>\n",
       "    </tr>\n",
       "  </tbody>\n",
       "</table>\n",
       "</div>"
      ],
      "text/plain": [
       "       DateId ShopId TrackSourceTypeDef  Quantity\n",
       "26  2017/1/27      C                App        35\n",
       "27  2017/1/28      B                Web         5\n",
       "28  2017/1/29      C                Web         4\n",
       "29  2017/1/30      B                App        12\n",
       "30  2017/1/31      A                Web         2"
      ]
     },
     "execution_count": 14,
     "metadata": {},
     "output_type": "execute_result"
    }
   ],
   "source": [
    "df.tail() #預設列出最後五筆資料, 若要顯示最後N筆: dr.tail(N)"
   ]
  },
  {
   "cell_type": "markdown",
   "metadata": {},
   "source": [
    "### 檢視特定欄位"
   ]
  },
  {
   "cell_type": "code",
   "execution_count": 15,
   "metadata": {},
   "outputs": [
    {
     "data": {
      "text/plain": [
       "0    App\n",
       "1    Web\n",
       "2    Web\n",
       "3    App\n",
       "4    Web\n",
       "Name: TrackSourceTypeDef, dtype: object"
      ]
     },
     "execution_count": 15,
     "metadata": {},
     "output_type": "execute_result"
    }
   ],
   "source": [
    "df['TrackSourceTypeDef'].head() #取特定欄位的前五筆資料"
   ]
  },
  {
   "cell_type": "markdown",
   "metadata": {},
   "source": [
    "### 檢視第N筆資料"
   ]
  },
  {
   "cell_type": "code",
   "execution_count": 16,
   "metadata": {},
   "outputs": [
    {
     "data": {
      "text/plain": [
       "DateId                2017/1/4\n",
       "ShopId                       D\n",
       "TrackSourceTypeDef         App\n",
       "Quantity                    12\n",
       "Name: 3, dtype: object"
      ]
     },
     "execution_count": 16,
     "metadata": {},
     "output_type": "execute_result"
    }
   ],
   "source": [
    "df.loc[3] #顯示第4筆資料的資訊, 其中資料從0開始"
   ]
  },
  {
   "cell_type": "markdown",
   "metadata": {},
   "source": [
    "### 檢視第N~M筆資料"
   ]
  },
  {
   "cell_type": "code",
   "execution_count": 17,
   "metadata": {
    "scrolled": true
   },
   "outputs": [
    {
     "data": {
      "text/html": [
       "<div>\n",
       "<style scoped>\n",
       "    .dataframe tbody tr th:only-of-type {\n",
       "        vertical-align: middle;\n",
       "    }\n",
       "\n",
       "    .dataframe tbody tr th {\n",
       "        vertical-align: top;\n",
       "    }\n",
       "\n",
       "    .dataframe thead th {\n",
       "        text-align: right;\n",
       "    }\n",
       "</style>\n",
       "<table border=\"1\" class=\"dataframe\">\n",
       "  <thead>\n",
       "    <tr style=\"text-align: right;\">\n",
       "      <th></th>\n",
       "      <th>DateId</th>\n",
       "      <th>TrackSourceTypeDef</th>\n",
       "    </tr>\n",
       "  </thead>\n",
       "  <tbody>\n",
       "    <tr>\n",
       "      <th>0</th>\n",
       "      <td>2017/1/1</td>\n",
       "      <td>App</td>\n",
       "    </tr>\n",
       "    <tr>\n",
       "      <th>1</th>\n",
       "      <td>2017/1/2</td>\n",
       "      <td>Web</td>\n",
       "    </tr>\n",
       "    <tr>\n",
       "      <th>2</th>\n",
       "      <td>2017/1/3</td>\n",
       "      <td>Web</td>\n",
       "    </tr>\n",
       "    <tr>\n",
       "      <th>3</th>\n",
       "      <td>2017/1/4</td>\n",
       "      <td>App</td>\n",
       "    </tr>\n",
       "    <tr>\n",
       "      <th>4</th>\n",
       "      <td>2017/1/5</td>\n",
       "      <td>Web</td>\n",
       "    </tr>\n",
       "    <tr>\n",
       "      <th>5</th>\n",
       "      <td>2017/1/6</td>\n",
       "      <td>Web</td>\n",
       "    </tr>\n",
       "    <tr>\n",
       "      <th>6</th>\n",
       "      <td>2017/1/7</td>\n",
       "      <td>App</td>\n",
       "    </tr>\n",
       "    <tr>\n",
       "      <th>7</th>\n",
       "      <td>2017/1/8</td>\n",
       "      <td>Web</td>\n",
       "    </tr>\n",
       "    <tr>\n",
       "      <th>8</th>\n",
       "      <td>2017/1/9</td>\n",
       "      <td>App</td>\n",
       "    </tr>\n",
       "    <tr>\n",
       "      <th>9</th>\n",
       "      <td>2017/1/10</td>\n",
       "      <td>Web</td>\n",
       "    </tr>\n",
       "    <tr>\n",
       "      <th>10</th>\n",
       "      <td>2017/1/11</td>\n",
       "      <td>App</td>\n",
       "    </tr>\n",
       "    <tr>\n",
       "      <th>11</th>\n",
       "      <td>2017/1/12</td>\n",
       "      <td>App</td>\n",
       "    </tr>\n",
       "    <tr>\n",
       "      <th>12</th>\n",
       "      <td>2017/1/13</td>\n",
       "      <td>App</td>\n",
       "    </tr>\n",
       "    <tr>\n",
       "      <th>13</th>\n",
       "      <td>2017/1/14</td>\n",
       "      <td>Web</td>\n",
       "    </tr>\n",
       "    <tr>\n",
       "      <th>14</th>\n",
       "      <td>2017/1/15</td>\n",
       "      <td>Web</td>\n",
       "    </tr>\n",
       "    <tr>\n",
       "      <th>15</th>\n",
       "      <td>2017/1/16</td>\n",
       "      <td>App</td>\n",
       "    </tr>\n",
       "    <tr>\n",
       "      <th>16</th>\n",
       "      <td>2017/1/17</td>\n",
       "      <td>Web</td>\n",
       "    </tr>\n",
       "    <tr>\n",
       "      <th>17</th>\n",
       "      <td>2017/1/18</td>\n",
       "      <td>App</td>\n",
       "    </tr>\n",
       "    <tr>\n",
       "      <th>18</th>\n",
       "      <td>2017/1/19</td>\n",
       "      <td>Web</td>\n",
       "    </tr>\n",
       "    <tr>\n",
       "      <th>19</th>\n",
       "      <td>2017/1/20</td>\n",
       "      <td>Web</td>\n",
       "    </tr>\n",
       "    <tr>\n",
       "      <th>20</th>\n",
       "      <td>2017/1/21</td>\n",
       "      <td>Web</td>\n",
       "    </tr>\n",
       "  </tbody>\n",
       "</table>\n",
       "</div>"
      ],
      "text/plain": [
       "       DateId TrackSourceTypeDef\n",
       "0    2017/1/1                App\n",
       "1    2017/1/2                Web\n",
       "2    2017/1/3                Web\n",
       "3    2017/1/4                App\n",
       "4    2017/1/5                Web\n",
       "5    2017/1/6                Web\n",
       "6    2017/1/7                App\n",
       "7    2017/1/8                Web\n",
       "8    2017/1/9                App\n",
       "9   2017/1/10                Web\n",
       "10  2017/1/11                App\n",
       "11  2017/1/12                App\n",
       "12  2017/1/13                App\n",
       "13  2017/1/14                Web\n",
       "14  2017/1/15                Web\n",
       "15  2017/1/16                App\n",
       "16  2017/1/17                Web\n",
       "17  2017/1/18                App\n",
       "18  2017/1/19                Web\n",
       "19  2017/1/20                Web\n",
       "20  2017/1/21                Web"
      ]
     },
     "execution_count": 17,
     "metadata": {},
     "output_type": "execute_result"
    }
   ],
   "source": [
    "df.loc[0:20, ['DateId', 'TrackSourceTypeDef']] #顯示特定幾筆/欄位的資料"
   ]
  },
  {
   "cell_type": "markdown",
   "metadata": {},
   "source": [
    "## 篩選"
   ]
  },
  {
   "cell_type": "markdown",
   "metadata": {},
   "source": [
    "### 以特定欄位條件篩選資料, 並存成DF"
   ]
  },
  {
   "cell_type": "code",
   "execution_count": 18,
   "metadata": {},
   "outputs": [
    {
     "data": {
      "text/html": [
       "<div>\n",
       "<style scoped>\n",
       "    .dataframe tbody tr th:only-of-type {\n",
       "        vertical-align: middle;\n",
       "    }\n",
       "\n",
       "    .dataframe tbody tr th {\n",
       "        vertical-align: top;\n",
       "    }\n",
       "\n",
       "    .dataframe thead th {\n",
       "        text-align: right;\n",
       "    }\n",
       "</style>\n",
       "<table border=\"1\" class=\"dataframe\">\n",
       "  <thead>\n",
       "    <tr style=\"text-align: right;\">\n",
       "      <th></th>\n",
       "      <th>DateId</th>\n",
       "      <th>ShopId</th>\n",
       "      <th>TrackSourceTypeDef</th>\n",
       "      <th>Quantity</th>\n",
       "    </tr>\n",
       "  </thead>\n",
       "  <tbody>\n",
       "    <tr>\n",
       "      <th>0</th>\n",
       "      <td>2017/1/1</td>\n",
       "      <td>A</td>\n",
       "      <td>App</td>\n",
       "      <td>5</td>\n",
       "    </tr>\n",
       "    <tr>\n",
       "      <th>3</th>\n",
       "      <td>2017/1/4</td>\n",
       "      <td>D</td>\n",
       "      <td>App</td>\n",
       "      <td>12</td>\n",
       "    </tr>\n",
       "    <tr>\n",
       "      <th>6</th>\n",
       "      <td>2017/1/7</td>\n",
       "      <td>D</td>\n",
       "      <td>App</td>\n",
       "      <td>6</td>\n",
       "    </tr>\n",
       "    <tr>\n",
       "      <th>8</th>\n",
       "      <td>2017/1/9</td>\n",
       "      <td>E</td>\n",
       "      <td>App</td>\n",
       "      <td>7</td>\n",
       "    </tr>\n",
       "    <tr>\n",
       "      <th>10</th>\n",
       "      <td>2017/1/11</td>\n",
       "      <td>D</td>\n",
       "      <td>App</td>\n",
       "      <td>3</td>\n",
       "    </tr>\n",
       "    <tr>\n",
       "      <th>11</th>\n",
       "      <td>2017/1/12</td>\n",
       "      <td>C</td>\n",
       "      <td>App</td>\n",
       "      <td>4</td>\n",
       "    </tr>\n",
       "    <tr>\n",
       "      <th>12</th>\n",
       "      <td>2017/1/13</td>\n",
       "      <td>B</td>\n",
       "      <td>App</td>\n",
       "      <td>3</td>\n",
       "    </tr>\n",
       "    <tr>\n",
       "      <th>15</th>\n",
       "      <td>2017/1/16</td>\n",
       "      <td>B</td>\n",
       "      <td>App</td>\n",
       "      <td>2</td>\n",
       "    </tr>\n",
       "    <tr>\n",
       "      <th>17</th>\n",
       "      <td>2017/1/18</td>\n",
       "      <td>A</td>\n",
       "      <td>App</td>\n",
       "      <td>3</td>\n",
       "    </tr>\n",
       "    <tr>\n",
       "      <th>21</th>\n",
       "      <td>2017/1/22</td>\n",
       "      <td>B</td>\n",
       "      <td>App</td>\n",
       "      <td>23</td>\n",
       "    </tr>\n",
       "    <tr>\n",
       "      <th>23</th>\n",
       "      <td>2017/1/24</td>\n",
       "      <td>A</td>\n",
       "      <td>App</td>\n",
       "      <td>5</td>\n",
       "    </tr>\n",
       "    <tr>\n",
       "      <th>25</th>\n",
       "      <td>2017/1/26</td>\n",
       "      <td>D</td>\n",
       "      <td>App</td>\n",
       "      <td>43</td>\n",
       "    </tr>\n",
       "    <tr>\n",
       "      <th>26</th>\n",
       "      <td>2017/1/27</td>\n",
       "      <td>C</td>\n",
       "      <td>App</td>\n",
       "      <td>35</td>\n",
       "    </tr>\n",
       "    <tr>\n",
       "      <th>29</th>\n",
       "      <td>2017/1/30</td>\n",
       "      <td>B</td>\n",
       "      <td>App</td>\n",
       "      <td>12</td>\n",
       "    </tr>\n",
       "  </tbody>\n",
       "</table>\n",
       "</div>"
      ],
      "text/plain": [
       "       DateId ShopId TrackSourceTypeDef  Quantity\n",
       "0    2017/1/1      A                App         5\n",
       "3    2017/1/4      D                App        12\n",
       "6    2017/1/7      D                App         6\n",
       "8    2017/1/9      E                App         7\n",
       "10  2017/1/11      D                App         3\n",
       "11  2017/1/12      C                App         4\n",
       "12  2017/1/13      B                App         3\n",
       "15  2017/1/16      B                App         2\n",
       "17  2017/1/18      A                App         3\n",
       "21  2017/1/22      B                App        23\n",
       "23  2017/1/24      A                App         5\n",
       "25  2017/1/26      D                App        43\n",
       "26  2017/1/27      C                App        35\n",
       "29  2017/1/30      B                App        12"
      ]
     },
     "execution_count": 18,
     "metadata": {},
     "output_type": "execute_result"
    }
   ],
   "source": [
    "df[df['TrackSourceTypeDef'] == 'App'] #提供條件, 篩選符合的資料"
   ]
  },
  {
   "cell_type": "markdown",
   "metadata": {},
   "source": [
    "## 資料分組"
   ]
  },
  {
   "cell_type": "markdown",
   "metadata": {},
   "source": [
    "### 以某欄位做為Key, 並對Data做運算"
   ]
  },
  {
   "cell_type": "code",
   "execution_count": 19,
   "metadata": {},
   "outputs": [
    {
     "data": {
      "text/plain": [
       "ShopId\n",
       "A    28\n",
       "B    95\n",
       "C    47\n",
       "D    77\n",
       "E     9\n",
       "Name: Quantity, dtype: int64"
      ]
     },
     "execution_count": 19,
     "metadata": {},
     "output_type": "execute_result"
    }
   ],
   "source": [
    "data = df.groupby('ShopId')['Quantity'].sum()\n",
    "# ['ShopId'].count() #將特定資料作為index算特定欄位的總和\n",
    "data.head(10)"
   ]
  },
  {
   "cell_type": "markdown",
   "metadata": {},
   "source": [
    "若要再存成dataFrame(or Series)"
   ]
  },
  {
   "cell_type": "code",
   "execution_count": 20,
   "metadata": {},
   "outputs": [
    {
     "data": {
      "text/html": [
       "<div>\n",
       "<style scoped>\n",
       "    .dataframe tbody tr th:only-of-type {\n",
       "        vertical-align: middle;\n",
       "    }\n",
       "\n",
       "    .dataframe tbody tr th {\n",
       "        vertical-align: top;\n",
       "    }\n",
       "\n",
       "    .dataframe thead th {\n",
       "        text-align: right;\n",
       "    }\n",
       "</style>\n",
       "<table border=\"1\" class=\"dataframe\">\n",
       "  <thead>\n",
       "    <tr style=\"text-align: right;\">\n",
       "      <th></th>\n",
       "      <th>Quantity</th>\n",
       "    </tr>\n",
       "    <tr>\n",
       "      <th>ShopId</th>\n",
       "      <th></th>\n",
       "    </tr>\n",
       "  </thead>\n",
       "  <tbody>\n",
       "    <tr>\n",
       "      <th>A</th>\n",
       "      <td>28</td>\n",
       "    </tr>\n",
       "    <tr>\n",
       "      <th>B</th>\n",
       "      <td>95</td>\n",
       "    </tr>\n",
       "    <tr>\n",
       "      <th>C</th>\n",
       "      <td>47</td>\n",
       "    </tr>\n",
       "    <tr>\n",
       "      <th>D</th>\n",
       "      <td>77</td>\n",
       "    </tr>\n",
       "    <tr>\n",
       "      <th>E</th>\n",
       "      <td>9</td>\n",
       "    </tr>\n",
       "  </tbody>\n",
       "</table>\n",
       "</div>"
      ],
      "text/plain": [
       "        Quantity\n",
       "ShopId          \n",
       "A             28\n",
       "B             95\n",
       "C             47\n",
       "D             77\n",
       "E              9"
      ]
     },
     "execution_count": 20,
     "metadata": {},
     "output_type": "execute_result"
    }
   ],
   "source": [
    "df_ShopId = pd.DataFrame(data)\n",
    "df_ShopId"
   ]
  },
  {
   "cell_type": "markdown",
   "metadata": {},
   "source": [
    "## 繪圖"
   ]
  },
  {
   "cell_type": "code",
   "execution_count": 21,
   "metadata": {},
   "outputs": [],
   "source": [
    "import matplotlib.pyplot as plt"
   ]
  },
  {
   "cell_type": "markdown",
   "metadata": {},
   "source": [
    "### Series.plot()之參數\n",
    "* **kind**: *str*  \n",
    "        決定圖表型態.\n",
    "    * line\n",
    "    * bar \n",
    "    * barh\n",
    "    * hist\n",
    "    * box\n",
    "    * kde\n",
    "    * density\n",
    "    * area\n",
    "    * pie\n",
    "* **ax**: *matplotlib axes object*\n",
    "* **figsize**: *(width, height)*, \n",
    "        調整圖片大小.\n",
    "* **use_index**: *boolean, default True*, \n",
    "        將索引當作刻度標籤.\n",
    "* **title**: *str or list*, \n",
    "        圖表標題.\n",
    "* **grid**: *boolean, default None (matlab style default)*, \n",
    "        顯示網格.\n",
    "* **legend**: *False/True/'reverse'*, \n",
    "        顯示數值標籤.\n",
    "* **style**: *list or dict*, \n",
    "        圖表的風格.\n",
    "* **logx**: *boolean, default False*, \n",
    "        x軸使用對數尺度.\n",
    "* **logy**: *boolean, default False*, \n",
    "        y軸使用對數尺度.\n",
    "* **loglog**: *boolean, default False*, \n",
    "        兩軸都取對數.\n",
    "* **xticks**: *sequence*, \n",
    "        用作x軸刻度的值.\n",
    "* **yticks**: *sequence*, \n",
    "        用作y軸刻度的值.\n",
    "* **xlim**: *2-tuple/list*, \n",
    "        x軸的界限, 例如:[0, 10].\n",
    "* **ylim**: *2-tuple/list*,\n",
    "        y軸的界限, 例如:[0, 10].\n",
    "* **rot**: *int*, \n",
    "        旋轉刻度標籤.\n",
    "* **fontsize**: *int, default None*, \n",
    "        Font size for xticks and yticks\n",
    "* **colormap**: *str or matplotlib colormap object, default None*, \n",
    "        Colormap to select colors from. If string, load colormap with that name from matplotlib.\n",
    "* **colorbar**: *boolean, optional*, \n",
    "        If True, plot colorbar (only relevant for ‘scatter’ and ‘hexbin’ plots)\n",
    "* **position**: *float*, \n",
    "        Specify relative alignments for bar plot layout. From 0 (left/bottom-end) to 1 (right/top-end). Default is 0.5 (center).\n",
    "* **yerr**: *DataFrame, Series, array-like, dict and str*, \n",
    "        See Plotting with Error Bars for detail.\n",
    "* **xerr**: \n",
    "        same types as yerr.\n",
    "* **label**: *label argument to provide to plot*\n",
    "* **secondary_y**: *boolean or sequence of ints, default False*, \n",
    "        If True then y-axis will be on the right.\n",
    "* **mark_right**: *boolean, default True, When using a secondary_y axis*, \n",
    "        automatically mark the column labels with “(right)” in the legend.\n",
    "* **kwds**: *keywords, Options to pass to matplotlib plotting method.*\n",
    "* **alpha**: *int: 0~1*, \n",
    "        資料曲線的透明度."
   ]
  },
  {
   "cell_type": "markdown",
   "metadata": {},
   "source": [
    "### DataFrame.plot()之參數\n",
    "* **kind**: *str*  \n",
    "        決定圖表型態.\n",
    "    * line\n",
    "    * bar \n",
    "    * barh\n",
    "    * hist\n",
    "    * box\n",
    "    * kde\n",
    "    * density\n",
    "    * area\n",
    "    * pie\n",
    "    * scatter\n",
    "    * hexbin\n",
    "* **ax**: *matplotlib axes object, default None*\n",
    "        指定在subplot裡的位置, 方法如範例.\n",
    "* **subplots**: *boolean, default False*,\n",
    "        將各個資料繪製到單獨的subplot中.\n",
    "* **sharex**: *boolean, default True if ax is None else False*\n",
    "        x軸刻度同步.\n",
    "* **sharey**: *boolean, default False*\n",
    "        y軸刻度同步.\n",
    "* **layout**: *tuple (optional)*\n",
    "        (rows, columns) for the layout of subplots\n",
    "* **figsize**: *(width, height)*, \n",
    "        調整圖片大小.\n",
    "* **use_index**: *boolean, default True*, \n",
    "        將索引當作刻度標籤.\n",
    "* **title**: *str or list*, \n",
    "        圖表標題.\n",
    "* **grid**: *boolean, default None (matlab style default)*, \n",
    "        顯示網格.\n",
    "* **legend**: *False/True/'reverse'*, \n",
    "        顯示數值標籤.\n",
    "* **style**: *list or dict*, \n",
    "        圖表的風格.\n",
    "* **logx**: *boolean, default False*, \n",
    "        x軸使用對數尺度.\n",
    "* **logy**: *boolean, default False*, \n",
    "        y軸使用對數尺度.\n",
    "* **loglog**: *boolean, default False*, \n",
    "        兩軸都取對數.\n",
    "* **xticks**: *sequence*, \n",
    "        用作x軸刻度的值.\n",
    "* **yticks**: *sequence*, \n",
    "        用作y軸刻度的值.\n",
    "* **xlim**: *2-tuple/list*, \n",
    "        x軸的界限, 例如:[0, 10].\n",
    "* **ylim**: *2-tuple/list*,\n",
    "        y軸的界限, 例如:[0, 10].\n",
    "* **rot**: *int, default None*, \n",
    "        旋轉刻度標籤.\n",
    "* **fontsize**: *int, default None*, \n",
    "        Font size for xticks and yticks\n",
    "* **colormap**: *str or matplotlib colormap object, default None*, \n",
    "        Colormap to select colors from. If string, load colormap with that name from matplotlib.\n",
    "* **colorbar**: *boolean*, \n",
    "        If True, plot colorbar (only relevant for ‘scatter’ and ‘hexbin’ plots)\n",
    "* **position**: *float*, \n",
    "        Specify relative alignments for bar plot layout. From 0 (left/bottom-end) to 1 (right/top-end). Default is 0.5 (center).\n",
    "* **yerr**: *DataFrame, Series, array-like, dict and str*, \n",
    "        See Plotting with Error Bars for detail.\n",
    "* **xerr**: \n",
    "        same types as yerr.\n",
    "* **stacked**: *boolean, default False in line and bar plots, and True in area plot.* \n",
    "        繪製堆疊圖.\n",
    "* **sort_columns**: *boolean, default False*,\n",
    "        Sort column names to determine plot ordering\n",
    "* **secondary_y**: *boolean or sequence of ints, default False*, \n",
    "        If True then y-axis will be on the right.\n",
    "* **mark_right**: *boolean, default True, When using a secondary_y axis*, \n",
    "        automatically mark the column labels with “(right)” in the legend.\n",
    "* **kwds**: *keywords, Options to pass to matplotlib plotting method.*\n",
    "* **alpha**: *int: 0~1*, \n",
    "        資料曲線的透明度."
   ]
  },
  {
   "cell_type": "markdown",
   "metadata": {},
   "source": [
    "### 折線圖"
   ]
  },
  {
   "cell_type": "markdown",
   "metadata": {},
   "source": [
    "#### Series"
   ]
  },
  {
   "cell_type": "code",
   "execution_count": 74,
   "metadata": {
    "scrolled": true
   },
   "outputs": [
    {
     "data": {
      "text/plain": [
       "<matplotlib.axes._subplots.AxesSubplot at 0x2585af40668>"
      ]
     },
     "execution_count": 74,
     "metadata": {},
     "output_type": "execute_result"
    },
    {
     "data": {
      "image/png": "[encoded data removed]",
      "text/plain": [
       "<matplotlib.figure.Figure at 0x2585af2ebe0>"
      ]
     },
     "metadata": {},
     "output_type": "display_data"
    }
   ],
   "source": [
    "s = pd.Series(np.random.randn(10),index=np.arange(0,100,10))\n",
    "s.plot(style='ko--', grid=True, title='test', figsize=(10,5))"
   ]
  },
  {
   "cell_type": "markdown",
   "metadata": {},
   "source": [
    "#### DataFrame"
   ]
  },
  {
   "cell_type": "code",
   "execution_count": 76,
   "metadata": {
    "scrolled": false
   },
   "outputs": [
    {
     "data": {
      "text/plain": [
       "<matplotlib.axes._subplots.AxesSubplot at 0x2585aa3b4a8>"
      ]
     },
     "execution_count": 76,
     "metadata": {},
     "output_type": "execute_result"
    },
    {
     "data": {
      "image/png": "[encoded data removed]",
      "text/plain": [
       "<matplotlib.figure.Figure at 0x2585a4c4668>"
      ]
     },
     "metadata": {},
     "output_type": "display_data"
    }
   ],
   "source": [
    "df1=pd.DataFrame(np.random.randn(10,4).cumsum(0),\n",
    "             columns=['A','B','C','D'],\n",
    "             index=np.arange(0,100,10))\n",
    "df1.plot()"
   ]
  },
  {
   "cell_type": "code",
   "execution_count": 77,
   "metadata": {},
   "outputs": [
    {
     "data": {
      "text/plain": [
       "array([<matplotlib.axes._subplots.AxesSubplot object at 0x000002585A95A710>,\n",
       "       <matplotlib.axes._subplots.AxesSubplot object at 0x000002585A5FBD68>,\n",
       "       <matplotlib.axes._subplots.AxesSubplot object at 0x000002585CC55CC0>,\n",
       "       <matplotlib.axes._subplots.AxesSubplot object at 0x000002585CD73CF8>],\n",
       "      dtype=object)"
      ]
     },
     "execution_count": 77,
     "metadata": {},
     "output_type": "execute_result"
    },
    {
     "data": {
      "image/png": "[encoded data removed]",
      "text/plain": [
       "<matplotlib.figure.Figure at 0x2585aee4f60>"
      ]
     },
     "metadata": {},
     "output_type": "display_data"
    }
   ],
   "source": [
    "df1.plot(subplots=True)"
   ]
  },
  {
   "cell_type": "code",
   "execution_count": 49,
   "metadata": {},
   "outputs": [
    {
     "data": {
      "text/plain": [
       "array([<matplotlib.axes._subplots.AxesSubplot object at 0x00000258585EE828>,\n",
       "       <matplotlib.axes._subplots.AxesSubplot object at 0x0000025859AEFBA8>,\n",
       "       <matplotlib.axes._subplots.AxesSubplot object at 0x0000025859B25B70>,\n",
       "       <matplotlib.axes._subplots.AxesSubplot object at 0x0000025859B62AC8>],\n",
       "      dtype=object)"
      ]
     },
     "execution_count": 49,
     "metadata": {},
     "output_type": "execute_result"
    },
    {
     "data": {
      "image/png": "[encoded data removed]",
      "text/plain": [
       "<matplotlib.figure.Figure at 0x25858317f98>"
      ]
     },
     "metadata": {},
     "output_type": "display_data"
    }
   ],
   "source": [
    "df1.plot(subplots=True, sharex=True)"
   ]
  },
  {
   "cell_type": "markdown",
   "metadata": {},
   "source": [
    "### 柱狀圖"
   ]
  },
  {
   "cell_type": "markdown",
   "metadata": {},
   "source": [
    "#### Series"
   ]
  },
  {
   "cell_type": "code",
   "execution_count": 29,
   "metadata": {
    "scrolled": true
   },
   "outputs": [
    {
     "data": {
      "text/plain": [
       "<matplotlib.axes._subplots.AxesSubplot at 0x25857e8d518>"
      ]
     },
     "execution_count": 29,
     "metadata": {},
     "output_type": "execute_result"
    },
    {
     "data": {
      "image/png": "[encoded data removed]",
      "text/plain": [
       "<matplotlib.figure.Figure at 0x25857e44d68>"
      ]
     },
     "metadata": {},
     "output_type": "display_data"
    }
   ],
   "source": [
    "fig, axes = plt.subplots(1, 2) #兩圖顯示在一起\n",
    "data = pd.Series(np.random.rand(16), index=list('abcdefghijklmnop'))\n",
    "data.plot(kind='bar',ax=axes[0],color='k',alpha=0.7)\n",
    "data.plot(kind='barh',ax=axes[1],color='k',alpha=0.7)"
   ]
  },
  {
   "cell_type": "markdown",
   "metadata": {},
   "source": [
    "#### DataFrame"
   ]
  },
  {
   "cell_type": "code",
   "execution_count": 25,
   "metadata": {},
   "outputs": [
    {
     "name": "stdout",
     "output_type": "stream",
     "text": [
      "Genus         A         B         C         D\n",
      "one    0.864772  0.369887  0.618422  0.177828\n",
      "two    0.601871  0.644741  0.087539  0.697404\n",
      "three  0.858369  0.982331  0.524228  0.017972\n",
      "four   0.489719  0.930530  0.494026  0.546365\n",
      "five   0.965498  0.008643  0.565760  0.376512\n",
      "three  0.799523  0.845185  0.135677  0.112756\n"
     ]
    },
    {
     "data": {
      "text/plain": [
       "<matplotlib.axes._subplots.AxesSubplot at 0x258567cd080>"
      ]
     },
     "execution_count": 25,
     "metadata": {},
     "output_type": "execute_result"
    },
    {
     "data": {
      "image/png": "[encoded data removed]",
      "text/plain": [
       "<matplotlib.figure.Figure at 0x25856717d30>"
      ]
     },
     "metadata": {},
     "output_type": "display_data"
    }
   ],
   "source": [
    "df2=pd.DataFrame(np.random.rand(6,4),\n",
    "              index=['one','two','three','four','five','three'],\n",
    "              columns=pd.Index(['A','B','C','D'],name='Genus'))\n",
    "print(df2)\n",
    "df2.plot(kind='bar')"
   ]
  },
  {
   "cell_type": "markdown",
   "metadata": {},
   "source": [
    "### 柱狀堆疊圖"
   ]
  },
  {
   "cell_type": "markdown",
   "metadata": {},
   "source": [
    "#### DataFrame"
   ]
  },
  {
   "cell_type": "code",
   "execution_count": 26,
   "metadata": {
    "scrolled": false
   },
   "outputs": [
    {
     "data": {
      "text/plain": [
       "<matplotlib.axes._subplots.AxesSubplot at 0x25856999da0>"
      ]
     },
     "execution_count": 26,
     "metadata": {},
     "output_type": "execute_result"
    },
    {
     "data": {
      "image/png": "[encoded data removed]",
      "text/plain": [
       "<matplotlib.figure.Figure at 0x25856784438>"
      ]
     },
     "metadata": {},
     "output_type": "display_data"
    }
   ],
   "source": [
    "df2.plot(kind='barh',stacked=True,alpha=0.5)"
   ]
  },
  {
   "cell_type": "markdown",
   "metadata": {},
   "source": [
    "### 正規化柱狀堆疊圖"
   ]
  },
  {
   "cell_type": "markdown",
   "metadata": {},
   "source": [
    "#### DataFrame"
   ]
  },
  {
   "cell_type": "code",
   "execution_count": 80,
   "metadata": {},
   "outputs": [
    {
     "data": {
      "text/plain": [
       "<matplotlib.axes._subplots.AxesSubplot at 0x2585cebe2b0>"
      ]
     },
     "execution_count": 80,
     "metadata": {},
     "output_type": "execute_result"
    },
    {
     "data": {
      "image/png": "[encoded data removed]",
      "text/plain": [
       "<matplotlib.figure.Figure at 0x2585a47b400>"
      ]
     },
     "metadata": {},
     "output_type": "display_data"
    }
   ],
   "source": [
    "df2_pacts = df2.div(df2.sum(1).astype(float), axis=0)\n",
    "df2_pacts.plot(kind='bar',stacked=True)"
   ]
  }
 ],
 "metadata": {
  "kernelspec": {
   "display_name": "Python 3",
   "language": "python",
   "name": "python3"
  },
  "language_info": {
   "codemirror_mode": {
    "name": "ipython",
    "version": 3
   },
   "file_extension": ".py",
   "mimetype": "text/x-python",
   "name": "python",
   "nbconvert_exporter": "python",
   "pygments_lexer": "ipython3",
   "version": "3.6.4"
  }
 },
 "nbformat": 4,
 "nbformat_minor": 2
}
