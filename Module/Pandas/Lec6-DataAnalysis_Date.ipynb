{
 "cells": [
  {
   "cell_type": "markdown",
   "metadata": {},
   "source": [
    "# Lec6-DataAnalysis_Date"
   ]
  },
  {
   "cell_type": "markdown",
   "metadata": {},
   "source": [
    "## 目錄\n",
    "1. 數據前處理\n",
    "2. 獲取特定時間資料\n",
    "    1. 按年度獲取\n",
    "    2. 按月份獲取資料\n",
    "    3. 按日獲取資料\n",
    "    4. 獲取某個時段之前/之後資料\n",
    "3. 以日期做統計資料\n",
    "    1. 按週計算\n",
    "    2. 按月計算\n",
    "    3. 按季計算\n",
    "    4. 按年計算"
   ]
  },
  {
   "cell_type": "markdown",
   "metadata": {},
   "source": [
    "## 0. 建立DataFrame(Series)"
   ]
  },
  {
   "cell_type": "code",
   "execution_count": 1,
   "metadata": {},
   "outputs": [],
   "source": [
    "import pandas as pd\n",
    "import numpy as np\n",
    "\n",
    "df = pd.read_csv('Data.csv')\n",
    "df.columns = ['date', 'number']"
   ]
  },
  {
   "cell_type": "markdown",
   "metadata": {},
   "source": [
    "## 1. 數據前處理"
   ]
  },
  {
   "cell_type": "code",
   "execution_count": 2,
   "metadata": {},
   "outputs": [],
   "source": [
    "df['date'] = pd.to_datetime(df['date']) # 必須為datetime\n",
    "df = df.set_index('date') # 並將datetime欄位設為index"
   ]
  },
  {
   "cell_type": "markdown",
   "metadata": {},
   "source": [
    "## 2. 獲取特定時間資料"
   ]
  },
  {
   "cell_type": "markdown",
   "metadata": {},
   "source": [
    "### 2.A 按年度獲取 "
   ]
  },
  {
   "cell_type": "code",
   "execution_count": 3,
   "metadata": {},
   "outputs": [
    {
     "name": "stdout",
     "output_type": "stream",
     "text": [
      "---------獲取2017年數據-----------\n",
      "            number\n",
      "date              \n",
      "2017-06-06      59\n",
      "2017-08-17      99\n",
      "-------獲取2016-2017年數據-------\n",
      "            number\n",
      "date              \n",
      "2016-11-29      38\n",
      "2017-06-06      59\n"
     ]
    }
   ],
   "source": [
    "print('---------獲取2017年數據-----------')\n",
    "print(df['2017'].head(2))\n",
    "print('-------獲取2016-2017年數據-------')\n",
    "print(df['2016':'2017'].head(2))"
   ]
  },
  {
   "cell_type": "markdown",
   "metadata": {},
   "source": [
    "### 2.B 按月份獲取"
   ]
  },
  {
   "cell_type": "code",
   "execution_count": 4,
   "metadata": {},
   "outputs": [
    {
     "name": "stdout",
     "output_type": "stream",
     "text": [
      "---------獲取11月資料-----------\n",
      "            number\n",
      "date              \n",
      "2017-11-24      51\n",
      "2017-11-04      80\n",
      "2017-11-28      58\n",
      "-------獲取10~11月資料-----------\n",
      "            number\n",
      "date              \n",
      "2017-10-16      94\n",
      "2017-11-24      51\n",
      "2017-10-07      90\n",
      "2017-11-04      80\n",
      "2017-11-28      58\n",
      "2017-10-07      90\n",
      "2017-10-21      30\n",
      "2017-10-18      88\n",
      "2017-10-20       5\n",
      "2017-10-25      44\n",
      "2017-10-30       3\n"
     ]
    }
   ],
   "source": [
    "print('---------獲取11月資料-----------')\n",
    "print(df['2017-11'])\n",
    "print('-------獲取10~11月資料-----------')\n",
    "print(df['2017-10':'2017-11'])"
   ]
  },
  {
   "cell_type": "markdown",
   "metadata": {},
   "source": [
    "### 2.C 按日獲取"
   ]
  },
  {
   "cell_type": "code",
   "execution_count": 5,
   "metadata": {},
   "outputs": [
    {
     "name": "stdout",
     "output_type": "stream",
     "text": [
      "---------獲取11/3資料-----------\n",
      "Empty DataFrame\n",
      "Columns: [number]\n",
      "Index: []\n",
      "-------獲取11/3~11/5資料-----------\n",
      "            number\n",
      "date              \n",
      "2017-11-04      80\n"
     ]
    }
   ],
   "source": [
    "print('---------獲取11/3資料-----------')\n",
    "print(df['2017-11-3'])\n",
    "print('-------獲取11/3~11/5資料-----------')\n",
    "print(df['2017-11-3':'2017-11-5'])"
   ]
  },
  {
   "cell_type": "markdown",
   "metadata": {},
   "source": [
    "### 2.D 獲取某個時段之前/之後"
   ]
  },
  {
   "cell_type": "code",
   "execution_count": 6,
   "metadata": {},
   "outputs": [
    {
     "name": "stdout",
     "output_type": "stream",
     "text": [
      "---------獲取某個時段之前/之後資料-----------\n",
      "--------after------------\n",
      "            number\n",
      "date              \n",
      "2001-03-05      48\n",
      "2001-03-16      85\n",
      "--------before------------\n",
      "            number\n",
      "date              \n",
      "2017-12-04      22\n",
      "2017-12-09      77\n",
      "2017-12-28      75\n",
      "2017-12-29      16\n"
     ]
    }
   ],
   "source": [
    "df_sort = df.sort_index() # index一定要先排序!\n",
    "print('---------獲取某個時段之前/之後資料-----------')\n",
    "print('--------after------------')\n",
    "print(df_sort.truncate(after = '2001-04'))\n",
    "print('--------before------------')\n",
    "print(df_sort.truncate(before = '2017-12'))"
   ]
  },
  {
   "cell_type": "markdown",
   "metadata": {},
   "source": [
    "## 3. 以日期做統計資料"
   ]
  },
  {
   "cell_type": "markdown",
   "metadata": {},
   "source": [
    "### 3.A 按週計算"
   ]
  },
  {
   "cell_type": "code",
   "execution_count": 7,
   "metadata": {},
   "outputs": [
    {
     "name": "stdout",
     "output_type": "stream",
     "text": [
      "            number\n",
      "date              \n",
      "2001-03-11      48\n",
      "2001-03-18      85\n",
      "----顯示幾日到幾日\n",
      "                       number\n",
      "date                         \n",
      "2001-03-05/2001-03-11      48\n",
      "2001-03-12/2001-03-18      85\n"
     ]
    }
   ],
   "source": [
    "print(df.resample('w').sum().head(2))\n",
    "print('----顯示幾日到幾日')\n",
    "print(df.resample('w').sum().to_period('w').head(2))"
   ]
  },
  {
   "cell_type": "markdown",
   "metadata": {},
   "source": [
    "### 3.B 按月計算"
   ]
  },
  {
   "cell_type": "code",
   "execution_count": 8,
   "metadata": {},
   "outputs": [
    {
     "name": "stdout",
     "output_type": "stream",
     "text": [
      "------日期以月初顯示------\n",
      "            number\n",
      "date              \n",
      "2001-03-01     133\n",
      "2001-04-01     435\n",
      "------日期以月底顯示------\n",
      "            number\n",
      "date              \n",
      "2001-03-31     133\n",
      "2001-04-30     435\n",
      "------日期顯示至月份------\n",
      "         number\n",
      "date           \n",
      "2001-03     133\n",
      "2001-04     435\n"
     ]
    }
   ],
   "source": [
    "print('------日期以月初顯示------')\n",
    "print(df.resample('MS').sum().head(2))\n",
    "print('------日期以月底顯示------')\n",
    "print(df.resample('M').sum().head(2))\n",
    "print('------日期顯示至月份------')\n",
    "print(df.resample('M').sum().to_period('M').head(2))"
   ]
  },
  {
   "cell_type": "markdown",
   "metadata": {},
   "source": [
    "### 3.C 按季計算"
   ]
  },
  {
   "cell_type": "code",
   "execution_count": 9,
   "metadata": {},
   "outputs": [
    {
     "name": "stdout",
     "output_type": "stream",
     "text": [
      "------日期以季初顯示------\n",
      "            number\n",
      "date              \n",
      "2001-01-01     133\n",
      "2001-04-01    1361\n",
      "------日期以季末顯示------\n",
      "            number\n",
      "date              \n",
      "2001-03-31     133\n",
      "2001-06-30    1361\n",
      "------日期顯示至季------\n",
      "        number\n",
      "date          \n",
      "2001Q1     133\n",
      "2001Q2    1361\n"
     ]
    }
   ],
   "source": [
    "print('------日期以季初顯示------')\n",
    "print(df.resample('QS').sum().head(2))\n",
    "print('------日期以季末顯示------')\n",
    "print(df.resample('Q').sum().head(2))\n",
    "print('------日期顯示至季------')\n",
    "print(df.resample('Q').sum().to_period('Q').head(2))"
   ]
  },
  {
   "cell_type": "markdown",
   "metadata": {},
   "source": [
    "### 3.D 按年計算"
   ]
  },
  {
   "cell_type": "code",
   "execution_count": 10,
   "metadata": {},
   "outputs": [
    {
     "name": "stdout",
     "output_type": "stream",
     "text": [
      "------日期以年初顯示------\n",
      "            number\n",
      "date              \n",
      "2001-01-01    3375\n",
      "2002-01-01    3153\n",
      "------日期以年末顯示------\n",
      "            number\n",
      "date              \n",
      "2001-12-31    3375\n",
      "2002-12-31    3153\n",
      "------日期顯示至年份------\n",
      "      number\n",
      "date        \n",
      "2001    3375\n",
      "2002    3153\n"
     ]
    }
   ],
   "source": [
    "print('------日期以年初顯示------')\n",
    "print(df.resample('AS').sum().head(2))\n",
    "print('------日期以年末顯示------')\n",
    "print(df.resample('A').sum().head(2))\n",
    "print('------日期顯示至年份------')\n",
    "print(df.resample('A').sum().to_period('A').head(2))"
   ]
  }
 ],
 "metadata": {
  "kernelspec": {
   "display_name": "Python 3",
   "language": "python",
   "name": "python3"
  },
  "language_info": {
   "codemirror_mode": {
    "name": "ipython",
    "version": 3
   },
   "file_extension": ".py",
   "mimetype": "text/x-python",
   "name": "python",
   "nbconvert_exporter": "python",
   "pygments_lexer": "ipython3",
   "version": "3.6.4"
  }
 },
 "nbformat": 4,
 "nbformat_minor": 2
}
