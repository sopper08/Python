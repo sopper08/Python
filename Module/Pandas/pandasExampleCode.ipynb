{
 "cells": [
  {
   "cell_type": "markdown",
   "metadata": {},
   "source": [
    "# PANDAS\n",
    "本章提供Pandas常用操作!"
   ]
  },
  {
   "cell_type": "markdown",
   "metadata": {},
   "source": [
    "## 目錄\n",
    "0. 目錄\n",
    "1. 首先匯入資料\n",
    "    1. 資料讀取\n",
    "        1. CSV\n",
    "    2. 產生資料\n",
    "        1. Series\n",
    "            1. 不指定index\n",
    "            2. 指定index\n",
    "        2. DataFrame(表格)\n",
    "2. 檢視資料\n",
    "    1. 檢視資料狀態\n",
    "    2. 檢視變數型態\n",
    "    3. 設定欄位名稱\n",
    "    4. 變更變數型態\n",
    "    5. 檢視前幾筆資料\n",
    "    6. 檢視後幾筆資料\n",
    "    7. 檢視特定欄位\n",
    "    8. 檢視第N筆資料\n",
    "    9. 檢視第N~M筆資料\n",
    "3. 篩選\n",
    "    1. 以特定欄位條件篩選資料, 並存成DF\n",
    "4. 資料分組\n",
    "    1. 以某欄位做為Key, 並對Data做運算\n",
    "5. 繪圖\n",
    "    1. Series.plot()之參數\n",
    "    2. DataFrame.plot()之參數\n",
    "    3. 折線圖\n",
    "        1. Series\n",
    "        2. DataFrame\n",
    "    4. 柱狀圖\n",
    "        1. Series\n",
    "        2. DataFrame\n",
    "    5. 柱狀堆疊圖\n",
    "        1. DataFrame\n",
    "    6. 正規化柱狀堆疊圖\n",
    "        1. DataFrame\n",
    "6. 數據分析-時間篇\n",
    "    1. 數據前處理\n",
    "    2. 獲取特定時間資料\n",
    "        1. 按年度獲取\n",
    "        2. 按月份獲取資料\n",
    "        3. 按日獲取資料\n",
    "        4. 獲取某個時段之前/之後資料\n",
    "    3. 以日期做統計資料\n",
    "        1. 按週計算\n",
    "        2. 按月計算\n",
    "        3. 按季計算\n",
    "        4. 按年計算"
   ]
  },
  {
   "cell_type": "markdown",
   "metadata": {},
   "source": [
    "## <span id = \"1\">首先匯入資料</span>"
   ]
  },
  {
   "cell_type": "markdown",
   "metadata": {},
   "source": [
    "### <span id = \"1.1\">資料讀取</span>"
   ]
  },
  {
   "cell_type": "markdown",
   "metadata": {},
   "source": [
    "#### <span id = \"1.1.1\">CSV</span>"
   ]
  },
  {
   "cell_type": "code",
   "execution_count": 1,
   "metadata": {},
   "outputs": [],
   "source": [
    "import pandas as pd\n",
    "import numpy as np\n",
    "df = pd.read_csv('Data.csv')"
   ]
  },
  {
   "cell_type": "markdown",
   "metadata": {},
   "source": [
    "### <span id = \"1.2\">產生資料</span>"
   ]
  },
  {
   "cell_type": "markdown",
   "metadata": {},
   "source": [
    "#### <span id = \"1.2.1\">Series</span>"
   ]
  },
  {
   "cell_type": "markdown",
   "metadata": {},
   "source": [
    "##### <span id = \"1.2.1.1\">不指定index</span>"
   ]
  },
  {
   "cell_type": "code",
   "execution_count": 2,
   "metadata": {},
   "outputs": [
    {
     "data": {
      "text/plain": [
       "0     1.0\n",
       "1     3.0\n",
       "2     6.0\n",
       "3     NaN\n",
       "4    44.0\n",
       "5     1.0\n",
       "dtype: float64"
      ]
     },
     "execution_count": 2,
     "metadata": {},
     "output_type": "execute_result"
    }
   ],
   "source": [
    "s1 = pd.Series([1, 3, 6, np.nan, 44, 1]) #不指定index\n",
    "s1"
   ]
  },
  {
   "cell_type": "markdown",
   "metadata": {},
   "source": [
    "##### <span id = \"1.2.1.2\">指定index</span>"
   ]
  },
  {
   "cell_type": "code",
   "execution_count": 3,
   "metadata": {},
   "outputs": [
    {
     "data": {
      "text/plain": [
       "c    1\n",
       "b    2\n",
       "a    3\n",
       "dtype: int64"
      ]
     },
     "execution_count": 3,
     "metadata": {},
     "output_type": "execute_result"
    }
   ],
   "source": [
    "s2 = pd.Series([1, 2, 3], index={'a', 'b', 'c'}) #指定index\n",
    "s2"
   ]
  },
  {
   "cell_type": "markdown",
   "metadata": {},
   "source": [
    "#### <span id = \"1.2.2\">DataFrame(表格)</span>"
   ]
  },
  {
   "cell_type": "code",
   "execution_count": 4,
   "metadata": {
    "scrolled": true
   },
   "outputs": [
    {
     "data": {
      "text/html": [
       "<div>\n",
       "<style scoped>\n",
       "    .dataframe tbody tr th:only-of-type {\n",
       "        vertical-align: middle;\n",
       "    }\n",
       "\n",
       "    .dataframe tbody tr th {\n",
       "        vertical-align: top;\n",
       "    }\n",
       "\n",
       "    .dataframe thead th {\n",
       "        text-align: right;\n",
       "    }\n",
       "</style>\n",
       "<table border=\"1\" class=\"dataframe\">\n",
       "  <thead>\n",
       "    <tr style=\"text-align: right;\">\n",
       "      <th></th>\n",
       "      <th>CLIENTCODE</th>\n",
       "      <th>YEARMONTH</th>\n",
       "    </tr>\n",
       "  </thead>\n",
       "  <tbody>\n",
       "    <tr>\n",
       "      <th>0</th>\n",
       "      <td>1</td>\n",
       "      <td>201301</td>\n",
       "    </tr>\n",
       "    <tr>\n",
       "      <th>1</th>\n",
       "      <td>1</td>\n",
       "      <td>201301</td>\n",
       "    </tr>\n",
       "    <tr>\n",
       "      <th>2</th>\n",
       "      <td>2</td>\n",
       "      <td>201301</td>\n",
       "    </tr>\n",
       "    <tr>\n",
       "      <th>3</th>\n",
       "      <td>1</td>\n",
       "      <td>201302</td>\n",
       "    </tr>\n",
       "    <tr>\n",
       "      <th>4</th>\n",
       "      <td>2</td>\n",
       "      <td>201302</td>\n",
       "    </tr>\n",
       "    <tr>\n",
       "      <th>5</th>\n",
       "      <td>2</td>\n",
       "      <td>201302</td>\n",
       "    </tr>\n",
       "    <tr>\n",
       "      <th>6</th>\n",
       "      <td>3</td>\n",
       "      <td>201302</td>\n",
       "    </tr>\n",
       "  </tbody>\n",
       "</table>\n",
       "</div>"
      ],
      "text/plain": [
       "   CLIENTCODE  YEARMONTH\n",
       "0           1     201301\n",
       "1           1     201301\n",
       "2           2     201301\n",
       "3           1     201302\n",
       "4           2     201302\n",
       "5           2     201302\n",
       "6           3     201302"
      ]
     },
     "execution_count": 4,
     "metadata": {},
     "output_type": "execute_result"
    }
   ],
   "source": [
    "s1 = pd.Series([1, 1, 2, 1, 2, 2, 3])\n",
    "s2 = pd.Series([201301, 201301, 201301, 201302, 201302, 201302, 201302])\n",
    "table = pd.DataFrame(\n",
    "    {\n",
    "        'CLIENTCODE': s1,\n",
    "        'YEARMONTH': s2\n",
    "    })\n",
    "table"
   ]
  },
  {
   "cell_type": "markdown",
   "metadata": {},
   "source": [
    "## <span id = \"2\">檢視資料</span>"
   ]
  },
  {
   "cell_type": "markdown",
   "metadata": {},
   "source": [
    "### <span id = \"2.1\">檢視資料狀態</span>"
   ]
  },
  {
   "cell_type": "code",
   "execution_count": 5,
   "metadata": {},
   "outputs": [
    {
     "data": {
      "text/plain": [
       "(999, 2)"
      ]
     },
     "execution_count": 5,
     "metadata": {},
     "output_type": "execute_result"
    }
   ],
   "source": [
    "df.shape #可以知道有多少比資料/變數, 代表31筆資料, 以及3個變數."
   ]
  },
  {
   "cell_type": "markdown",
   "metadata": {},
   "source": [
    "### <span id = \"2.2\">檢視變數型態</span>"
   ]
  },
  {
   "cell_type": "code",
   "execution_count": 6,
   "metadata": {
    "scrolled": false
   },
   "outputs": [
    {
     "name": "stdout",
     "output_type": "stream",
     "text": [
      "<class 'pandas.core.frame.DataFrame'>\n",
      "RangeIndex: 999 entries, 0 to 998\n",
      "Data columns (total 2 columns):\n",
      "2015-10-23    999 non-null object\n",
      "51            999 non-null int64\n",
      "dtypes: int64(1), object(1)\n",
      "memory usage: 15.7+ KB\n"
     ]
    }
   ],
   "source": [
    "df.info() #檢查變數為哪種型態"
   ]
  },
  {
   "cell_type": "markdown",
   "metadata": {},
   "source": [
    "### <span id = \"2.3\">設定欄位名稱</span>"
   ]
  },
  {
   "cell_type": "code",
   "execution_count": 7,
   "metadata": {},
   "outputs": [
    {
     "name": "stdout",
     "output_type": "stream",
     "text": [
      "<class 'pandas.core.frame.DataFrame'>\n",
      "RangeIndex: 999 entries, 0 to 998\n",
      "Data columns (total 2 columns):\n",
      "date      999 non-null object\n",
      "number    999 non-null int64\n",
      "dtypes: int64(1), object(1)\n",
      "memory usage: 15.7+ KB\n"
     ]
    }
   ],
   "source": [
    "df.columns = ['date','number']\n",
    "df.info()"
   ]
  },
  {
   "cell_type": "markdown",
   "metadata": {},
   "source": [
    "### <span id = \"2.4\">變更變數型態</span>"
   ]
  },
  {
   "cell_type": "code",
   "execution_count": 8,
   "metadata": {},
   "outputs": [
    {
     "data": {
      "text/html": [
       "<div>\n",
       "<style scoped>\n",
       "    .dataframe tbody tr th:only-of-type {\n",
       "        vertical-align: middle;\n",
       "    }\n",
       "\n",
       "    .dataframe tbody tr th {\n",
       "        vertical-align: top;\n",
       "    }\n",
       "\n",
       "    .dataframe thead th {\n",
       "        text-align: right;\n",
       "    }\n",
       "</style>\n",
       "<table border=\"1\" class=\"dataframe\">\n",
       "  <thead>\n",
       "    <tr style=\"text-align: right;\">\n",
       "      <th></th>\n",
       "      <th>date</th>\n",
       "      <th>number</th>\n",
       "    </tr>\n",
       "  </thead>\n",
       "  <tbody>\n",
       "    <tr>\n",
       "      <th>0</th>\n",
       "      <td>2016-11-29</td>\n",
       "      <td>38</td>\n",
       "    </tr>\n",
       "    <tr>\n",
       "      <th>1</th>\n",
       "      <td>2002-02-06</td>\n",
       "      <td>84</td>\n",
       "    </tr>\n",
       "  </tbody>\n",
       "</table>\n",
       "</div>"
      ],
      "text/plain": [
       "        date  number\n",
       "0 2016-11-29      38\n",
       "1 2002-02-06      84"
      ]
     },
     "execution_count": 8,
     "metadata": {},
     "output_type": "execute_result"
    }
   ],
   "source": [
    "df['date'] = pd.to_datetime(df['date'])\n",
    "df.head(2)"
   ]
  },
  {
   "cell_type": "markdown",
   "metadata": {},
   "source": [
    "### <span id = \"2.5\">檢視前幾筆資料</span>"
   ]
  },
  {
   "cell_type": "code",
   "execution_count": 9,
   "metadata": {
    "scrolled": true
   },
   "outputs": [
    {
     "data": {
      "text/html": [
       "<div>\n",
       "<style scoped>\n",
       "    .dataframe tbody tr th:only-of-type {\n",
       "        vertical-align: middle;\n",
       "    }\n",
       "\n",
       "    .dataframe tbody tr th {\n",
       "        vertical-align: top;\n",
       "    }\n",
       "\n",
       "    .dataframe thead th {\n",
       "        text-align: right;\n",
       "    }\n",
       "</style>\n",
       "<table border=\"1\" class=\"dataframe\">\n",
       "  <thead>\n",
       "    <tr style=\"text-align: right;\">\n",
       "      <th></th>\n",
       "      <th>date</th>\n",
       "      <th>number</th>\n",
       "    </tr>\n",
       "  </thead>\n",
       "  <tbody>\n",
       "    <tr>\n",
       "      <th>0</th>\n",
       "      <td>2016-11-29</td>\n",
       "      <td>38</td>\n",
       "    </tr>\n",
       "    <tr>\n",
       "      <th>1</th>\n",
       "      <td>2002-02-06</td>\n",
       "      <td>84</td>\n",
       "    </tr>\n",
       "    <tr>\n",
       "      <th>2</th>\n",
       "      <td>2017-06-06</td>\n",
       "      <td>59</td>\n",
       "    </tr>\n",
       "    <tr>\n",
       "      <th>3</th>\n",
       "      <td>2010-03-29</td>\n",
       "      <td>24</td>\n",
       "    </tr>\n",
       "    <tr>\n",
       "      <th>4</th>\n",
       "      <td>2015-03-23</td>\n",
       "      <td>94</td>\n",
       "    </tr>\n",
       "  </tbody>\n",
       "</table>\n",
       "</div>"
      ],
      "text/plain": [
       "        date  number\n",
       "0 2016-11-29      38\n",
       "1 2002-02-06      84\n",
       "2 2017-06-06      59\n",
       "3 2010-03-29      24\n",
       "4 2015-03-23      94"
      ]
     },
     "execution_count": 9,
     "metadata": {},
     "output_type": "execute_result"
    }
   ],
   "source": [
    "df.head() #預設列出前五筆資料, 若要顯示前N筆: dr.head(N)"
   ]
  },
  {
   "cell_type": "markdown",
   "metadata": {},
   "source": [
    "### <span id = \"2.6\">檢視後幾筆資料</span>"
   ]
  },
  {
   "cell_type": "code",
   "execution_count": 10,
   "metadata": {
    "scrolled": true
   },
   "outputs": [
    {
     "data": {
      "text/html": [
       "<div>\n",
       "<style scoped>\n",
       "    .dataframe tbody tr th:only-of-type {\n",
       "        vertical-align: middle;\n",
       "    }\n",
       "\n",
       "    .dataframe tbody tr th {\n",
       "        vertical-align: top;\n",
       "    }\n",
       "\n",
       "    .dataframe thead th {\n",
       "        text-align: right;\n",
       "    }\n",
       "</style>\n",
       "<table border=\"1\" class=\"dataframe\">\n",
       "  <thead>\n",
       "    <tr style=\"text-align: right;\">\n",
       "      <th></th>\n",
       "      <th>date</th>\n",
       "      <th>number</th>\n",
       "    </tr>\n",
       "  </thead>\n",
       "  <tbody>\n",
       "    <tr>\n",
       "      <th>994</th>\n",
       "      <td>2013-12-08</td>\n",
       "      <td>84</td>\n",
       "    </tr>\n",
       "    <tr>\n",
       "      <th>995</th>\n",
       "      <td>2014-05-11</td>\n",
       "      <td>20</td>\n",
       "    </tr>\n",
       "    <tr>\n",
       "      <th>996</th>\n",
       "      <td>2013-10-03</td>\n",
       "      <td>52</td>\n",
       "    </tr>\n",
       "    <tr>\n",
       "      <th>997</th>\n",
       "      <td>2006-12-28</td>\n",
       "      <td>37</td>\n",
       "    </tr>\n",
       "    <tr>\n",
       "      <th>998</th>\n",
       "      <td>2009-05-02</td>\n",
       "      <td>56</td>\n",
       "    </tr>\n",
       "  </tbody>\n",
       "</table>\n",
       "</div>"
      ],
      "text/plain": [
       "          date  number\n",
       "994 2013-12-08      84\n",
       "995 2014-05-11      20\n",
       "996 2013-10-03      52\n",
       "997 2006-12-28      37\n",
       "998 2009-05-02      56"
      ]
     },
     "execution_count": 10,
     "metadata": {},
     "output_type": "execute_result"
    }
   ],
   "source": [
    "df.tail() #預設列出最後五筆資料, 若要顯示最後N筆: dr.tail(N)"
   ]
  },
  {
   "cell_type": "markdown",
   "metadata": {},
   "source": [
    "### <span id = \"2.7\">檢視特定欄位</span>"
   ]
  },
  {
   "cell_type": "code",
   "execution_count": 11,
   "metadata": {
    "scrolled": true
   },
   "outputs": [
    {
     "data": {
      "text/plain": [
       "0    38\n",
       "1    84\n",
       "2    59\n",
       "3    24\n",
       "4    94\n",
       "Name: number, dtype: int64"
      ]
     },
     "execution_count": 11,
     "metadata": {},
     "output_type": "execute_result"
    }
   ],
   "source": [
    "df['number'].head() #取特定欄位的前五筆資料"
   ]
  },
  {
   "cell_type": "markdown",
   "metadata": {},
   "source": [
    "### <span id = \"2.8\">檢視第N筆資料</span>"
   ]
  },
  {
   "cell_type": "code",
   "execution_count": 12,
   "metadata": {
    "scrolled": true
   },
   "outputs": [
    {
     "data": {
      "text/plain": [
       "date      2010-03-29 00:00:00\n",
       "number                     24\n",
       "Name: 3, dtype: object"
      ]
     },
     "execution_count": 12,
     "metadata": {},
     "output_type": "execute_result"
    }
   ],
   "source": [
    "df.loc[3] #顯示第4筆資料的資訊, 其中資料從0開始"
   ]
  },
  {
   "cell_type": "markdown",
   "metadata": {},
   "source": [
    "### <span id = \"2.9\">檢視第N~M筆資料</span>"
   ]
  },
  {
   "cell_type": "code",
   "execution_count": 13,
   "metadata": {
    "scrolled": true
   },
   "outputs": [
    {
     "data": {
      "text/html": [
       "<div>\n",
       "<style scoped>\n",
       "    .dataframe tbody tr th:only-of-type {\n",
       "        vertical-align: middle;\n",
       "    }\n",
       "\n",
       "    .dataframe tbody tr th {\n",
       "        vertical-align: top;\n",
       "    }\n",
       "\n",
       "    .dataframe thead th {\n",
       "        text-align: right;\n",
       "    }\n",
       "</style>\n",
       "<table border=\"1\" class=\"dataframe\">\n",
       "  <thead>\n",
       "    <tr style=\"text-align: right;\">\n",
       "      <th></th>\n",
       "      <th>date</th>\n",
       "      <th>number</th>\n",
       "    </tr>\n",
       "  </thead>\n",
       "  <tbody>\n",
       "    <tr>\n",
       "      <th>0</th>\n",
       "      <td>2016-11-29</td>\n",
       "      <td>38</td>\n",
       "    </tr>\n",
       "    <tr>\n",
       "      <th>1</th>\n",
       "      <td>2002-02-06</td>\n",
       "      <td>84</td>\n",
       "    </tr>\n",
       "    <tr>\n",
       "      <th>2</th>\n",
       "      <td>2017-06-06</td>\n",
       "      <td>59</td>\n",
       "    </tr>\n",
       "  </tbody>\n",
       "</table>\n",
       "</div>"
      ],
      "text/plain": [
       "        date  number\n",
       "0 2016-11-29      38\n",
       "1 2002-02-06      84\n",
       "2 2017-06-06      59"
      ]
     },
     "execution_count": 13,
     "metadata": {},
     "output_type": "execute_result"
    }
   ],
   "source": [
    "df.loc[0:2, ['date', 'number']] #顯示特定幾筆/欄位的資料"
   ]
  },
  {
   "cell_type": "markdown",
   "metadata": {},
   "source": [
    "## <span id = \"3\">篩選</span>"
   ]
  },
  {
   "cell_type": "markdown",
   "metadata": {},
   "source": [
    "### <span id = \"3.1\">以特定欄位條件篩選資料, 並存成DF</span>"
   ]
  },
  {
   "cell_type": "code",
   "execution_count": 14,
   "metadata": {},
   "outputs": [
    {
     "data": {
      "text/html": [
       "<div>\n",
       "<style scoped>\n",
       "    .dataframe tbody tr th:only-of-type {\n",
       "        vertical-align: middle;\n",
       "    }\n",
       "\n",
       "    .dataframe tbody tr th {\n",
       "        vertical-align: top;\n",
       "    }\n",
       "\n",
       "    .dataframe thead th {\n",
       "        text-align: right;\n",
       "    }\n",
       "</style>\n",
       "<table border=\"1\" class=\"dataframe\">\n",
       "  <thead>\n",
       "    <tr style=\"text-align: right;\">\n",
       "      <th></th>\n",
       "      <th>date</th>\n",
       "      <th>number</th>\n",
       "    </tr>\n",
       "  </thead>\n",
       "  <tbody>\n",
       "    <tr>\n",
       "      <th>182</th>\n",
       "      <td>2001-11-14</td>\n",
       "      <td>3</td>\n",
       "    </tr>\n",
       "    <tr>\n",
       "      <th>222</th>\n",
       "      <td>2009-08-26</td>\n",
       "      <td>3</td>\n",
       "    </tr>\n",
       "    <tr>\n",
       "      <th>253</th>\n",
       "      <td>2009-12-31</td>\n",
       "      <td>3</td>\n",
       "    </tr>\n",
       "    <tr>\n",
       "      <th>466</th>\n",
       "      <td>2003-08-09</td>\n",
       "      <td>3</td>\n",
       "    </tr>\n",
       "    <tr>\n",
       "      <th>612</th>\n",
       "      <td>2016-12-08</td>\n",
       "      <td>3</td>\n",
       "    </tr>\n",
       "    <tr>\n",
       "      <th>821</th>\n",
       "      <td>2010-02-13</td>\n",
       "      <td>3</td>\n",
       "    </tr>\n",
       "    <tr>\n",
       "      <th>842</th>\n",
       "      <td>2011-06-18</td>\n",
       "      <td>3</td>\n",
       "    </tr>\n",
       "    <tr>\n",
       "      <th>859</th>\n",
       "      <td>2007-12-11</td>\n",
       "      <td>3</td>\n",
       "    </tr>\n",
       "    <tr>\n",
       "      <th>862</th>\n",
       "      <td>2007-10-25</td>\n",
       "      <td>3</td>\n",
       "    </tr>\n",
       "    <tr>\n",
       "      <th>905</th>\n",
       "      <td>2017-10-30</td>\n",
       "      <td>3</td>\n",
       "    </tr>\n",
       "    <tr>\n",
       "      <th>928</th>\n",
       "      <td>2003-11-02</td>\n",
       "      <td>3</td>\n",
       "    </tr>\n",
       "    <tr>\n",
       "      <th>957</th>\n",
       "      <td>2004-03-20</td>\n",
       "      <td>3</td>\n",
       "    </tr>\n",
       "  </tbody>\n",
       "</table>\n",
       "</div>"
      ],
      "text/plain": [
       "          date  number\n",
       "182 2001-11-14       3\n",
       "222 2009-08-26       3\n",
       "253 2009-12-31       3\n",
       "466 2003-08-09       3\n",
       "612 2016-12-08       3\n",
       "821 2010-02-13       3\n",
       "842 2011-06-18       3\n",
       "859 2007-12-11       3\n",
       "862 2007-10-25       3\n",
       "905 2017-10-30       3\n",
       "928 2003-11-02       3\n",
       "957 2004-03-20       3"
      ]
     },
     "execution_count": 14,
     "metadata": {},
     "output_type": "execute_result"
    }
   ],
   "source": [
    "df[df['number'] == 3] #提供條件, 篩選符合的資料"
   ]
  },
  {
   "cell_type": "markdown",
   "metadata": {},
   "source": [
    "## <span id = \"4\">資料分組</span>"
   ]
  },
  {
   "cell_type": "markdown",
   "metadata": {},
   "source": [
    "### <span id = \"4.1\">以某欄位做為Key, 並對Data做運算</span>"
   ]
  },
  {
   "cell_type": "code",
   "execution_count": 15,
   "metadata": {},
   "outputs": [
    {
     "data": {
      "text/plain": [
       "date\n",
       "2001-03-05    48\n",
       "2001-03-16    85\n",
       "2001-04-03    99\n",
       "2001-04-07    75\n",
       "2001-04-10    27\n",
       "Name: number, dtype: int64"
      ]
     },
     "execution_count": 15,
     "metadata": {},
     "output_type": "execute_result"
    }
   ],
   "source": [
    "data = df.groupby('date')['number'].sum()\n",
    "# ['ShopId'].count() #將特定資料作為index算特定欄位的總和\n",
    "data.head()"
   ]
  },
  {
   "cell_type": "markdown",
   "metadata": {},
   "source": [
    "若要再存成dataFrame(or Series)"
   ]
  },
  {
   "cell_type": "code",
   "execution_count": 16,
   "metadata": {},
   "outputs": [
    {
     "data": {
      "text/html": [
       "<div>\n",
       "<style scoped>\n",
       "    .dataframe tbody tr th:only-of-type {\n",
       "        vertical-align: middle;\n",
       "    }\n",
       "\n",
       "    .dataframe tbody tr th {\n",
       "        vertical-align: top;\n",
       "    }\n",
       "\n",
       "    .dataframe thead th {\n",
       "        text-align: right;\n",
       "    }\n",
       "</style>\n",
       "<table border=\"1\" class=\"dataframe\">\n",
       "  <thead>\n",
       "    <tr style=\"text-align: right;\">\n",
       "      <th></th>\n",
       "      <th>number</th>\n",
       "    </tr>\n",
       "    <tr>\n",
       "      <th>date</th>\n",
       "      <th></th>\n",
       "    </tr>\n",
       "  </thead>\n",
       "  <tbody>\n",
       "    <tr>\n",
       "      <th>2001-03-05</th>\n",
       "      <td>48</td>\n",
       "    </tr>\n",
       "    <tr>\n",
       "      <th>2001-03-16</th>\n",
       "      <td>85</td>\n",
       "    </tr>\n",
       "    <tr>\n",
       "      <th>2001-04-03</th>\n",
       "      <td>99</td>\n",
       "    </tr>\n",
       "    <tr>\n",
       "      <th>2001-04-07</th>\n",
       "      <td>75</td>\n",
       "    </tr>\n",
       "    <tr>\n",
       "      <th>2001-04-10</th>\n",
       "      <td>27</td>\n",
       "    </tr>\n",
       "  </tbody>\n",
       "</table>\n",
       "</div>"
      ],
      "text/plain": [
       "            number\n",
       "date              \n",
       "2001-03-05      48\n",
       "2001-03-16      85\n",
       "2001-04-03      99\n",
       "2001-04-07      75\n",
       "2001-04-10      27"
      ]
     },
     "execution_count": 16,
     "metadata": {},
     "output_type": "execute_result"
    }
   ],
   "source": [
    "df_ShopId = pd.DataFrame(data)\n",
    "df_ShopId.head()"
   ]
  },
  {
   "cell_type": "markdown",
   "metadata": {},
   "source": [
    "## <span id = \"5\">繪圖</span>"
   ]
  },
  {
   "cell_type": "code",
   "execution_count": 17,
   "metadata": {},
   "outputs": [],
   "source": [
    "import matplotlib.pyplot as plt"
   ]
  },
  {
   "cell_type": "markdown",
   "metadata": {},
   "source": [
    "### <span id = \"5.1\">Series.plot()之參數</span>"
   ]
  },
  {
   "cell_type": "markdown",
   "metadata": {},
   "source": [
    "* **kind**: *str*  \n",
    "        決定圖表型態.\n",
    "    * line\n",
    "    * bar \n",
    "    * barh\n",
    "    * hist\n",
    "    * box\n",
    "    * kde\n",
    "    * density\n",
    "    * area\n",
    "    * pie\n",
    "* **ax**: *matplotlib axes object*\n",
    "* **figsize**: *(width, height)*, \n",
    "        調整圖片大小.\n",
    "* **use_index**: *boolean, default True*, \n",
    "        將索引當作刻度標籤.\n",
    "* **title**: *str or list*, \n",
    "        圖表標題.\n",
    "* **grid**: *boolean, default None (matlab style default)*, \n",
    "        顯示網格.\n",
    "* **legend**: *False/True/'reverse'*, \n",
    "        顯示數值標籤.\n",
    "* **style**: *list or dict*, \n",
    "        圖表的風格.\n",
    "* **logx**: *boolean, default False*, \n",
    "        x軸使用對數尺度.\n",
    "* **logy**: *boolean, default False*, \n",
    "        y軸使用對數尺度.\n",
    "* **loglog**: *boolean, default False*, \n",
    "        兩軸都取對數.\n",
    "* **xticks**: *sequence*, \n",
    "        用作x軸刻度的值.\n",
    "* **yticks**: *sequence*, \n",
    "        用作y軸刻度的值.\n",
    "* **xlim**: *2-tuple/list*, \n",
    "        x軸的界限, 例如:[0, 10].\n",
    "* **ylim**: *2-tuple/list*,\n",
    "        y軸的界限, 例如:[0, 10].\n",
    "* **rot**: *int*, \n",
    "        旋轉刻度標籤.\n",
    "* **fontsize**: *int, default None*, \n",
    "        Font size for xticks and yticks\n",
    "* **colormap**: *str or matplotlib colormap object, default None*, \n",
    "        Colormap to select colors from. If string, load colormap with that name from matplotlib.\n",
    "* **colorbar**: *boolean, optional*, \n",
    "        If True, plot colorbar (only relevant for ‘scatter’ and ‘hexbin’ plots)\n",
    "* **position**: *float*, \n",
    "        Specify relative alignments for bar plot layout. From 0 (left/bottom-end) to 1 (right/top-end). Default is 0.5 (center).\n",
    "* **yerr**: *DataFrame, Series, array-like, dict and str*, \n",
    "        See Plotting with Error Bars for detail.\n",
    "* **xerr**: \n",
    "        same types as yerr.\n",
    "* **label**: *label argument to provide to plot*\n",
    "* **secondary_y**: *boolean or sequence of ints, default False*, \n",
    "        If True then y-axis will be on the right.\n",
    "* **mark_right**: *boolean, default True, When using a secondary_y axis*, \n",
    "        automatically mark the column labels with “(right)” in the legend.\n",
    "* **kwds**: *keywords, Options to pass to matplotlib plotting method.*\n",
    "* **alpha**: *int: 0~1*, \n",
    "        資料曲線的透明度."
   ]
  },
  {
   "cell_type": "markdown",
   "metadata": {},
   "source": [
    "### <span id = \"5.2\">DataFrame.plot()之參數</span>"
   ]
  },
  {
   "cell_type": "markdown",
   "metadata": {},
   "source": [
    "* **kind**: *str*  \n",
    "        決定圖表型態.\n",
    "    * line\n",
    "    * bar \n",
    "    * barh\n",
    "    * hist\n",
    "    * box\n",
    "    * kde\n",
    "    * density\n",
    "    * area\n",
    "    * pie\n",
    "    * scatter\n",
    "    * hexbin\n",
    "* **ax**: *matplotlib axes object, default None*\n",
    "        指定在subplot裡的位置, 方法如範例.\n",
    "* **subplots**: *boolean, default False*,\n",
    "        將各個資料繪製到單獨的subplot中.\n",
    "* **sharex**: *boolean, default True if ax is None else False*\n",
    "        x軸刻度同步.\n",
    "* **sharey**: *boolean, default False*\n",
    "        y軸刻度同步.\n",
    "* **layout**: *tuple (optional)*\n",
    "        (rows, columns) for the layout of subplots\n",
    "* **figsize**: *(width, height)*, \n",
    "        調整圖片大小.\n",
    "* **use_index**: *boolean, default True*, \n",
    "        將索引當作刻度標籤.\n",
    "* **title**: *str or list*, \n",
    "        圖表標題.\n",
    "* **grid**: *boolean, default None (matlab style default)*, \n",
    "        顯示網格.\n",
    "* **legend**: *False/True/'reverse'*, \n",
    "        顯示數值標籤.\n",
    "* **style**: *list or dict*, \n",
    "        圖表的風格.\n",
    "* **logx**: *boolean, default False*, \n",
    "        x軸使用對數尺度.\n",
    "* **logy**: *boolean, default False*, \n",
    "        y軸使用對數尺度.\n",
    "* **loglog**: *boolean, default False*, \n",
    "        兩軸都取對數.\n",
    "* **xticks**: *sequence*, \n",
    "        用作x軸刻度的值.\n",
    "* **yticks**: *sequence*, \n",
    "        用作y軸刻度的值.\n",
    "* **xlim**: *2-tuple/list*, \n",
    "        x軸的界限, 例如:[0, 10].\n",
    "* **ylim**: *2-tuple/list*,\n",
    "        y軸的界限, 例如:[0, 10].\n",
    "* **rot**: *int, default None*, \n",
    "        旋轉刻度標籤.\n",
    "* **fontsize**: *int, default None*, \n",
    "        Font size for xticks and yticks\n",
    "* **colormap**: *str or matplotlib colormap object, default None*, \n",
    "        Colormap to select colors from. If string, load colormap with that name from matplotlib.\n",
    "* **colorbar**: *boolean*, \n",
    "        If True, plot colorbar (only relevant for ‘scatter’ and ‘hexbin’ plots)\n",
    "* **position**: *float*, \n",
    "        Specify relative alignments for bar plot layout. From 0 (left/bottom-end) to 1 (right/top-end). Default is 0.5 (center).\n",
    "* **yerr**: *DataFrame, Series, array-like, dict and str*, \n",
    "        See Plotting with Error Bars for detail.\n",
    "* **xerr**: \n",
    "        same types as yerr.\n",
    "* **stacked**: *boolean, default False in line and bar plots, and True in area plot.* \n",
    "        繪製堆疊圖.\n",
    "* **sort_columns**: *boolean, default False*,\n",
    "        Sort column names to determine plot ordering\n",
    "* **secondary_y**: *boolean or sequence of ints, default False*, \n",
    "        If True then y-axis will be on the right.\n",
    "* **mark_right**: *boolean, default True, When using a secondary_y axis*, \n",
    "        automatically mark the column labels with “(right)” in the legend.\n",
    "* **kwds**: *keywords, Options to pass to matplotlib plotting method.*\n",
    "* **alpha**: *int: 0~1*, \n",
    "        資料曲線的透明度."
   ]
  },
  {
   "cell_type": "markdown",
   "metadata": {},
   "source": [
    "### <span id = \"5.3\">折線圖</span>"
   ]
  },
  {
   "cell_type": "markdown",
   "metadata": {},
   "source": [
    "#### <span id = \"5.3.1\">Series</span>"
   ]
  },
  {
   "cell_type": "code",
   "execution_count": 18,
   "metadata": {
    "scrolled": true
   },
   "outputs": [
    {
     "data": {
      "text/plain": [
       "<matplotlib.axes._subplots.AxesSubplot at 0x25890f5c048>"
      ]
     },
     "execution_count": 18,
     "metadata": {},
     "output_type": "execute_result"
    },
    {
     "data": {
      "image/png": "[encoded data removed]",
      "text/plain": [
       "<matplotlib.figure.Figure at 0x25890de1668>"
      ]
     },
     "metadata": {},
     "output_type": "display_data"
    }
   ],
   "source": [
    "s = pd.Series(np.random.randn(10),index=np.arange(0,100,10))\n",
    "s.plot(style='ko--', grid=True, title='test', figsize=(10,5))"
   ]
  },
  {
   "cell_type": "markdown",
   "metadata": {},
   "source": [
    "#### <span id = \"5.3.2\">DataFrame</span>"
   ]
  },
  {
   "cell_type": "code",
   "execution_count": 19,
   "metadata": {
    "scrolled": false
   },
   "outputs": [
    {
     "data": {
      "text/plain": [
       "<matplotlib.axes._subplots.AxesSubplot at 0x258912beeb8>"
      ]
     },
     "execution_count": 19,
     "metadata": {},
     "output_type": "execute_result"
    },
    {
     "data": {
      "image/png": "[encoded data removed]",
      "text/plain": [
       "<matplotlib.figure.Figure at 0x25891294da0>"
      ]
     },
     "metadata": {},
     "output_type": "display_data"
    }
   ],
   "source": [
    "df1=pd.DataFrame(np.random.randn(10,4).cumsum(0),\n",
    "             columns=['A','B','C','D'],\n",
    "             index=np.arange(0,100,10))\n",
    "df1.plot()"
   ]
  },
  {
   "cell_type": "code",
   "execution_count": 20,
   "metadata": {},
   "outputs": [
    {
     "data": {
      "text/plain": [
       "array([<matplotlib.axes._subplots.AxesSubplot object at 0x00000258912EEC88>,\n",
       "       <matplotlib.axes._subplots.AxesSubplot object at 0x00000258913BF0B8>,\n",
       "       <matplotlib.axes._subplots.AxesSubplot object at 0x00000258913EAEF0>,\n",
       "       <matplotlib.axes._subplots.AxesSubplot object at 0x0000025891426278>],\n",
       "      dtype=object)"
      ]
     },
     "execution_count": 20,
     "metadata": {},
     "output_type": "execute_result"
    },
    {
     "data": {
      "image/png": "[encoded data removed]",
      "text/plain": [
       "<matplotlib.figure.Figure at 0x25891323240>"
      ]
     },
     "metadata": {},
     "output_type": "display_data"
    }
   ],
   "source": [
    "df1.plot(subplots=True)"
   ]
  },
  {
   "cell_type": "code",
   "execution_count": 21,
   "metadata": {},
   "outputs": [
    {
     "data": {
      "text/plain": [
       "array([<matplotlib.axes._subplots.AxesSubplot object at 0x00000258913924E0>,\n",
       "       <matplotlib.axes._subplots.AxesSubplot object at 0x000002589154A278>,\n",
       "       <matplotlib.axes._subplots.AxesSubplot object at 0x0000025891585160>,\n",
       "       <matplotlib.axes._subplots.AxesSubplot object at 0x0000025891598B38>],\n",
       "      dtype=object)"
      ]
     },
     "execution_count": 21,
     "metadata": {},
     "output_type": "execute_result"
    },
    {
     "data": {
      "image/png": "[encoded data removed]",
      "text/plain": [
       "<matplotlib.figure.Figure at 0x25891392d68>"
      ]
     },
     "metadata": {},
     "output_type": "display_data"
    }
   ],
   "source": [
    "df1.plot(subplots=True, sharex=True)"
   ]
  },
  {
   "cell_type": "markdown",
   "metadata": {},
   "source": [
    "### <span id = \"5.4\">柱狀圖</span>"
   ]
  },
  {
   "cell_type": "markdown",
   "metadata": {},
   "source": [
    "#### <span id = \"5.4.1\">Series</span>"
   ]
  },
  {
   "cell_type": "code",
   "execution_count": 22,
   "metadata": {
    "scrolled": true
   },
   "outputs": [
    {
     "data": {
      "text/plain": [
       "<matplotlib.axes._subplots.AxesSubplot at 0x258916cb6d8>"
      ]
     },
     "execution_count": 22,
     "metadata": {},
     "output_type": "execute_result"
    },
    {
     "data": {
      "image/png": "[encoded data removed]",
      "text/plain": [
       "<matplotlib.figure.Figure at 0x25891392438>"
      ]
     },
     "metadata": {},
     "output_type": "display_data"
    }
   ],
   "source": [
    "fig, axes = plt.subplots(1, 2) #兩圖顯示在一起\n",
    "data = pd.Series(np.random.rand(16), index=list('abcdefghijklmnop'))\n",
    "data.plot(kind='bar',ax=axes[0],color='k',alpha=0.7)\n",
    "data.plot(kind='barh',ax=axes[1],color='k',alpha=0.7)"
   ]
  },
  {
   "cell_type": "markdown",
   "metadata": {},
   "source": [
    "#### <span id = \"5.4.2\">DataFrame</span>"
   ]
  },
  {
   "cell_type": "code",
   "execution_count": 23,
   "metadata": {},
   "outputs": [
    {
     "name": "stdout",
     "output_type": "stream",
     "text": [
      "Genus         A         B         C         D\n",
      "one    0.364686  0.876350  0.878997  0.717610\n",
      "two    0.142544  0.421775  0.115082  0.838867\n",
      "three  0.732691  0.171332  0.613970  0.168457\n",
      "four   0.934460  0.392709  0.034521  0.524989\n",
      "five   0.636408  0.655553  0.632923  0.611408\n",
      "three  0.213323  0.528152  0.538034  0.251885\n"
     ]
    },
    {
     "data": {
      "text/plain": [
       "<matplotlib.axes._subplots.AxesSubplot at 0x25891752470>"
      ]
     },
     "execution_count": 23,
     "metadata": {},
     "output_type": "execute_result"
    },
    {
     "data": {
      "image/png": "[encoded data removed]",
      "text/plain": [
       "<matplotlib.figure.Figure at 0x25891669dd8>"
      ]
     },
     "metadata": {},
     "output_type": "display_data"
    }
   ],
   "source": [
    "df2=pd.DataFrame(np.random.rand(6,4),\n",
    "              index=['one','two','three','four','five','three'],\n",
    "              columns=pd.Index(['A','B','C','D'],name='Genus'))\n",
    "print(df2)\n",
    "df2.plot(kind='bar')"
   ]
  },
  {
   "cell_type": "markdown",
   "metadata": {},
   "source": [
    "### <span id = \"5.5\">柱狀堆疊圖</span>"
   ]
  },
  {
   "cell_type": "markdown",
   "metadata": {},
   "source": [
    "#### <span id = \"5.5.1\">DataFrame</span>"
   ]
  },
  {
   "cell_type": "code",
   "execution_count": 24,
   "metadata": {
    "scrolled": false
   },
   "outputs": [
    {
     "data": {
      "text/plain": [
       "<matplotlib.axes._subplots.AxesSubplot at 0x25891719b00>"
      ]
     },
     "execution_count": 24,
     "metadata": {},
     "output_type": "execute_result"
    },
    {
     "data": {
      "image/png": "[encoded data removed]",
      "text/plain": [
       "<matplotlib.figure.Figure at 0x2589165e550>"
      ]
     },
     "metadata": {},
     "output_type": "display_data"
    }
   ],
   "source": [
    "df2.plot(kind='barh',stacked=True,alpha=0.5)"
   ]
  },
  {
   "cell_type": "markdown",
   "metadata": {},
   "source": [
    "### <span id = \"5.6\">正規化柱狀堆疊圖</span>"
   ]
  },
  {
   "cell_type": "markdown",
   "metadata": {},
   "source": [
    "#### <span id = \"5.6.1\">DataFrame</span>"
   ]
  },
  {
   "cell_type": "code",
   "execution_count": 25,
   "metadata": {
    "scrolled": true
   },
   "outputs": [
    {
     "data": {
      "text/plain": [
       "<matplotlib.axes._subplots.AxesSubplot at 0x25892944828>"
      ]
     },
     "execution_count": 25,
     "metadata": {},
     "output_type": "execute_result"
    },
    {
     "data": {
      "image/png": "[encoded data removed]",
      "text/plain": [
       "<matplotlib.figure.Figure at 0x25892875550>"
      ]
     },
     "metadata": {},
     "output_type": "display_data"
    }
   ],
   "source": [
    "df2_pacts = df2.div(df2.sum(1).astype(float), axis=0)\n",
    "df2_pacts.plot(kind='bar',stacked=True)"
   ]
  },
  {
   "cell_type": "markdown",
   "metadata": {},
   "source": [
    "## <span id = \"6\">數據分析-時間篇</span>"
   ]
  },
  {
   "cell_type": "markdown",
   "metadata": {},
   "source": [
    "### <span id = \"6.1\">數據前處理</span>"
   ]
  },
  {
   "cell_type": "markdown",
   "metadata": {},
   "source": [
    "先讀取資料並將時間資料轉換成datetime, 並將時間資料設為index."
   ]
  },
  {
   "cell_type": "code",
   "execution_count": 26,
   "metadata": {},
   "outputs": [
    {
     "name": "stdout",
     "output_type": "stream",
     "text": [
      "            0   1\n",
      "0  2015-10-23  51\n",
      "1  2016-11-29  38\n"
     ]
    }
   ],
   "source": [
    "df1 = pd.read_csv('data.csv', header=None)\n",
    "print(df1.head(2))"
   ]
  },
  {
   "cell_type": "code",
   "execution_count": 27,
   "metadata": {
    "scrolled": true
   },
   "outputs": [],
   "source": [
    "df1.columns = ['date','number']"
   ]
  },
  {
   "cell_type": "code",
   "execution_count": 28,
   "metadata": {},
   "outputs": [
    {
     "name": "stdout",
     "output_type": "stream",
     "text": [
      "<class 'pandas.core.frame.DataFrame'>\n",
      "RangeIndex: 1000 entries, 0 to 999\n",
      "Data columns (total 2 columns):\n",
      "date      1000 non-null object\n",
      "number    1000 non-null int64\n",
      "dtypes: int64(1), object(1)\n",
      "memory usage: 15.7+ KB\n"
     ]
    }
   ],
   "source": [
    "df1.info()"
   ]
  },
  {
   "cell_type": "code",
   "execution_count": 29,
   "metadata": {},
   "outputs": [
    {
     "name": "stdout",
     "output_type": "stream",
     "text": [
      "            number\n",
      "date              \n",
      "2015-10-23      51\n",
      "2016-11-29      38\n"
     ]
    }
   ],
   "source": [
    "df1['date'] = pd.to_datetime(df1['date'])\n",
    "df1 = df1.set_index('date') # date欄位設為index\n",
    "print(df1.head(2))"
   ]
  },
  {
   "cell_type": "markdown",
   "metadata": {},
   "source": [
    "### <span id = \"6.2\">獲取特定時間資料</span>"
   ]
  },
  {
   "cell_type": "markdown",
   "metadata": {},
   "source": [
    "#### <span id = \"6.2.1\">按年度獲取</span>"
   ]
  },
  {
   "cell_type": "code",
   "execution_count": 30,
   "metadata": {
    "scrolled": true
   },
   "outputs": [
    {
     "name": "stdout",
     "output_type": "stream",
     "text": [
      "---------獲取2017年數據-----------\n",
      "            number\n",
      "date              \n",
      "2017-06-06      59\n",
      "2017-08-17      99\n",
      "-------獲取2016-2017年數據-------\n",
      "            number\n",
      "date              \n",
      "2016-11-29      38\n",
      "2017-06-06      59\n"
     ]
    }
   ],
   "source": [
    "print('---------獲取2017年數據-----------')\n",
    "print(df1['2017'].head(2))\n",
    "print('-------獲取2016-2017年數據-------')\n",
    "print(df1['2016':'2017'].head(2))"
   ]
  },
  {
   "cell_type": "markdown",
   "metadata": {},
   "source": [
    "#### <span id = \"6.2.2\">按月份獲取資料</span>"
   ]
  },
  {
   "cell_type": "code",
   "execution_count": 31,
   "metadata": {},
   "outputs": [
    {
     "name": "stdout",
     "output_type": "stream",
     "text": [
      "---------獲取11月資料-----------\n",
      "            number\n",
      "date              \n",
      "2017-11-24      51\n",
      "2017-11-04      80\n",
      "2017-11-28      58\n",
      "-------獲取10~11月資料-----------\n",
      "            number\n",
      "date              \n",
      "2017-10-16      94\n",
      "2017-11-24      51\n",
      "2017-10-07      90\n",
      "2017-11-04      80\n",
      "2017-11-28      58\n",
      "2017-10-07      90\n",
      "2017-10-21      30\n",
      "2017-10-18      88\n",
      "2017-10-20       5\n",
      "2017-10-25      44\n",
      "2017-10-30       3\n"
     ]
    }
   ],
   "source": [
    "print('---------獲取11月資料-----------')\n",
    "print(df1['2017-11'])\n",
    "print('-------獲取10~11月資料-----------')\n",
    "print(df1['2017-10':'2017-11'])"
   ]
  },
  {
   "cell_type": "markdown",
   "metadata": {},
   "source": [
    "#### <span id = \"6.2.3\">按日獲取資料</span>"
   ]
  },
  {
   "cell_type": "code",
   "execution_count": 32,
   "metadata": {},
   "outputs": [
    {
     "name": "stdout",
     "output_type": "stream",
     "text": [
      "---------獲取11/3資料-----------\n",
      "Empty DataFrame\n",
      "Columns: [number]\n",
      "Index: []\n",
      "-------獲取11/3~11/5資料-----------\n",
      "            number\n",
      "date              \n",
      "2017-11-04      80\n"
     ]
    }
   ],
   "source": [
    "print('---------獲取11/3資料-----------')\n",
    "print(df1['2017-11-3'])\n",
    "print('-------獲取11/3~11/5資料-----------')\n",
    "print(df1['2017-11-3':'2017-11-5'])"
   ]
  },
  {
   "cell_type": "markdown",
   "metadata": {},
   "source": [
    "#### <span id = \"6.2.4\">獲取某個時段之前/之後資料</span>"
   ]
  },
  {
   "cell_type": "markdown",
   "metadata": {},
   "source": [
    "記得要先排序!"
   ]
  },
  {
   "cell_type": "code",
   "execution_count": 33,
   "metadata": {},
   "outputs": [],
   "source": [
    "df1_sort = df1.sort_index()"
   ]
  },
  {
   "cell_type": "code",
   "execution_count": 34,
   "metadata": {},
   "outputs": [
    {
     "name": "stdout",
     "output_type": "stream",
     "text": [
      "---------獲取某個時段之前/之後資料-----------\n",
      "--------after------------\n",
      "            number\n",
      "date              \n",
      "2001-03-05      48\n",
      "2001-03-16      85\n",
      "--------before------------\n",
      "            number\n",
      "date              \n",
      "2017-12-04      22\n",
      "2017-12-09      77\n",
      "2017-12-28      75\n",
      "2017-12-29      16\n"
     ]
    }
   ],
   "source": [
    "print('---------獲取某個時段之前/之後資料-----------')\n",
    "print('--------after------------')\n",
    "print(df1_sort.truncate(after = '2001-04'))\n",
    "print('--------before------------')\n",
    "print(df1_sort.truncate(before = '2017-12'))"
   ]
  },
  {
   "cell_type": "markdown",
   "metadata": {},
   "source": [
    "### <span id = \"6.3\">以日期做統計資料</span>"
   ]
  },
  {
   "cell_type": "markdown",
   "metadata": {},
   "source": [
    "#### <span id = \"6.3.1\">按週計算</span>"
   ]
  },
  {
   "cell_type": "code",
   "execution_count": 35,
   "metadata": {},
   "outputs": [
    {
     "name": "stdout",
     "output_type": "stream",
     "text": [
      "            number\n",
      "date              \n",
      "2001-03-11      48\n",
      "2001-03-18      85\n",
      "----顯示幾日到幾日\n",
      "                       number\n",
      "date                         \n",
      "2001-03-05/2001-03-11      48\n",
      "2001-03-12/2001-03-18      85\n"
     ]
    }
   ],
   "source": [
    "print(df1.resample('w').sum().head(2))\n",
    "print('----顯示幾日到幾日')\n",
    "print(df1.resample('w').sum().to_period('w').head(2))"
   ]
  },
  {
   "cell_type": "markdown",
   "metadata": {},
   "source": [
    "#### <span id = \"6.3.2\">按月計算</span>"
   ]
  },
  {
   "cell_type": "code",
   "execution_count": 36,
   "metadata": {},
   "outputs": [
    {
     "name": "stdout",
     "output_type": "stream",
     "text": [
      "------日期以月初顯示------\n",
      "            number\n",
      "date              \n",
      "2001-03-01     133\n",
      "2001-04-01     435\n",
      "------日期以月底顯示------\n",
      "            number\n",
      "date              \n",
      "2001-03-31     133\n",
      "2001-04-30     435\n",
      "------日期顯示至月份------\n",
      "         number\n",
      "date           \n",
      "2001-03     133\n",
      "2001-04     435\n"
     ]
    }
   ],
   "source": [
    "print('------日期以月初顯示------')\n",
    "print(df1.resample('MS').sum().head(2))\n",
    "print('------日期以月底顯示------')\n",
    "print(df1.resample('M').sum().head(2))\n",
    "print('------日期顯示至月份------')\n",
    "print(df1.resample('M').sum().to_period('M').head(2))"
   ]
  },
  {
   "cell_type": "markdown",
   "metadata": {},
   "source": [
    "#### <span id = \"6.3.3\">按季計算</span>"
   ]
  },
  {
   "cell_type": "code",
   "execution_count": 37,
   "metadata": {},
   "outputs": [
    {
     "name": "stdout",
     "output_type": "stream",
     "text": [
      "------日期以季初顯示------\n",
      "            number\n",
      "date              \n",
      "2001-01-01     133\n",
      "2001-04-01    1361\n",
      "------日期以季末顯示------\n",
      "            number\n",
      "date              \n",
      "2001-03-31     133\n",
      "2001-06-30    1361\n",
      "------日期顯示至季------\n",
      "        number\n",
      "date          \n",
      "2001Q1     133\n",
      "2001Q2    1361\n"
     ]
    }
   ],
   "source": [
    "print('------日期以季初顯示------')\n",
    "print(df1.resample('QS').sum().head(2))\n",
    "print('------日期以季末顯示------')\n",
    "print(df1.resample('Q').sum().head(2))\n",
    "print('------日期顯示至季------')\n",
    "print(df1.resample('Q').sum().to_period('Q').head(2))"
   ]
  },
  {
   "cell_type": "markdown",
   "metadata": {},
   "source": [
    "#### <span id = \"6.3.4\">按年計算</span>"
   ]
  },
  {
   "cell_type": "code",
   "execution_count": 38,
   "metadata": {},
   "outputs": [
    {
     "name": "stdout",
     "output_type": "stream",
     "text": [
      "------日期以年初顯示------\n",
      "            number\n",
      "date              \n",
      "2001-01-01    3375\n",
      "2002-01-01    3153\n",
      "------日期以年末顯示------\n",
      "            number\n",
      "date              \n",
      "2001-12-31    3375\n",
      "2002-12-31    3153\n",
      "------日期顯示至年份------\n",
      "      number\n",
      "date        \n",
      "2001    3375\n",
      "2002    3153\n"
     ]
    }
   ],
   "source": [
    "print('------日期以年初顯示------')\n",
    "print(df1.resample('AS').sum().head(2))\n",
    "print('------日期以年末顯示------')\n",
    "print(df1.resample('A').sum().head(2))\n",
    "print('------日期顯示至年份------')\n",
    "print(df1.resample('A').sum().to_period('A').head(2))"
   ]
  }
 ],
 "metadata": {
  "kernelspec": {
   "display_name": "Python 3",
   "language": "python",
   "name": "python3"
  },
  "language_info": {
   "codemirror_mode": {
    "name": "ipython",
    "version": 3
   },
   "file_extension": ".py",
   "mimetype": "text/x-python",
   "name": "python",
   "nbconvert_exporter": "python",
   "pygments_lexer": "ipython3",
   "version": "3.6.4"
  }
 },
 "nbformat": 4,
 "nbformat_minor": 2
}
