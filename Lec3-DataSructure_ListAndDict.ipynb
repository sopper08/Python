{
 "cells": [
  {
   "cell_type": "markdown",
   "metadata": {},
   "source": [
    "# Lec3-DataSructure_ListAndDict"
   ]
  },
  {
   "cell_type": "markdown",
   "metadata": {},
   "source": [
    "## 目錄\n",
    "1. list\n",
    "    1. Creat list\n",
    "        1. 同類型\n",
    "        2. 不同類型\n",
    "        3. 查看list長度\n",
    "        4. 變更list內容\n",
    "    2. list index\n",
    "    3. 結合多個list\n",
    "    4. list的方法\n",
    "        1. 新增一個項: list.append()\n",
    "        2. 提出一個項: list.pop()\n",
    "        3. 排序\n",
    "            1. 由小到大\n",
    "            2. 由大到小\n",
    "    5. 二維list\n",
    "2. Dictionary\n",
    "    1. Create Dist\n",
    "        1. 宣告\n",
    "        2. 增加項目\n",
    "        3. 移除項目\n",
    "        4. 更改項目的value\n",
    "    2. dict的方法\n",
    "        1. 檢查所有key: dict.keys()\n",
    "        2. 檢查所有value: dict.values()"
   ]
  },
  {
   "cell_type": "markdown",
   "metadata": {},
   "source": [
    "## 1. list"
   ]
  },
  {
   "cell_type": "markdown",
   "metadata": {},
   "source": [
    "### 1.A Creat list"
   ]
  },
  {
   "cell_type": "markdown",
   "metadata": {},
   "source": [
    "#### 1.A.a 同類型"
   ]
  },
  {
   "cell_type": "code",
   "execution_count": 39,
   "metadata": {
    "scrolled": true
   },
   "outputs": [
    {
     "data": {
      "text/plain": [
       "[1, 3, 5, 7]"
      ]
     },
     "execution_count": 39,
     "metadata": {},
     "output_type": "execute_result"
    }
   ],
   "source": [
    "# list有序, 且具有索引特性\n",
    "num_list = [1, 3, 5, 7]\n",
    "num_list"
   ]
  },
  {
   "cell_type": "markdown",
   "metadata": {},
   "source": [
    "#### 1.A.b 不同類型"
   ]
  },
  {
   "cell_type": "code",
   "execution_count": 40,
   "metadata": {},
   "outputs": [
    {
     "data": {
      "text/plain": [
       "[100, 'apple', True]"
      ]
     },
     "execution_count": 40,
     "metadata": {},
     "output_type": "execute_result"
    }
   ],
   "source": [
    "# list內可包含不同類型對象\n",
    "mix_list = [100, 'apple', True]\n",
    "mix_list"
   ]
  },
  {
   "cell_type": "markdown",
   "metadata": {},
   "source": [
    "#### 1.A.c 查看list長度"
   ]
  },
  {
   "cell_type": "code",
   "execution_count": 41,
   "metadata": {},
   "outputs": [
    {
     "data": {
      "text/plain": [
       "4"
      ]
     },
     "execution_count": 41,
     "metadata": {},
     "output_type": "execute_result"
    }
   ],
   "source": [
    "# 查看list長度\n",
    "len(num_list)"
   ]
  },
  {
   "cell_type": "markdown",
   "metadata": {},
   "source": [
    "#### 1.A.d 變更list內容"
   ]
  },
  {
   "cell_type": "code",
   "execution_count": 42,
   "metadata": {},
   "outputs": [
    {
     "name": "stdout",
     "output_type": "stream",
     "text": [
      "[1, 3, 5, 7]\n",
      "[50, 3, 5, 7]\n"
     ]
    }
   ],
   "source": [
    "print(num_list)\n",
    "num_list[0] = 50\n",
    "print(num_list)"
   ]
  },
  {
   "cell_type": "markdown",
   "metadata": {},
   "source": [
    "### 1.B list index"
   ]
  },
  {
   "cell_type": "code",
   "execution_count": 43,
   "metadata": {},
   "outputs": [
    {
     "name": "stdout",
     "output_type": "stream",
     "text": [
      "1\n",
      "[1, 3, 5, 7]\n",
      "[3, 5]\n"
     ]
    }
   ],
   "source": [
    "num_list = [1, 3, 5, 7]\n",
    "print(num_list[0])\n",
    "print(num_list[:])\n",
    "print(num_list[1:-1])"
   ]
  },
  {
   "cell_type": "markdown",
   "metadata": {},
   "source": [
    "### 1.C 結合多個list"
   ]
  },
  {
   "cell_type": "code",
   "execution_count": 44,
   "metadata": {},
   "outputs": [
    {
     "data": {
      "text/plain": [
       "[10, 20, 30, 100, 200, 300]"
      ]
     },
     "execution_count": 44,
     "metadata": {},
     "output_type": "execute_result"
    }
   ],
   "source": [
    "first_list = [10, 20, 30]\n",
    "second_list = [100, 200, 300]\n",
    "# Check first_list\n",
    "first_list + second_list"
   ]
  },
  {
   "cell_type": "markdown",
   "metadata": {},
   "source": [
    "### 1.D list的方法"
   ]
  },
  {
   "cell_type": "markdown",
   "metadata": {},
   "source": [
    "#### 1.D.a 新增一個項: list.append()"
   ]
  },
  {
   "cell_type": "code",
   "execution_count": 45,
   "metadata": {},
   "outputs": [
    {
     "name": "stdout",
     "output_type": "stream",
     "text": [
      "[10, 20, 30]\n",
      "[10, 20, 30, 40]\n"
     ]
    }
   ],
   "source": [
    "list_1 = [10, 20, 30]\n",
    "print(list_1)\n",
    "list_1.append(40)\n",
    "print(list_1)"
   ]
  },
  {
   "cell_type": "markdown",
   "metadata": {},
   "source": [
    "#### 1.D.b 提出一個項: list.pop()"
   ]
  },
  {
   "cell_type": "code",
   "execution_count": 46,
   "metadata": {},
   "outputs": [
    {
     "name": "stdout",
     "output_type": "stream",
     "text": [
      "[10, 20, 30, 40]\n",
      "[10, 20, 30]\n",
      "[10, 20]\n"
     ]
    }
   ],
   "source": [
    "print(list_1)\n",
    "list_1.pop() # 取出最後一個\n",
    "print(list_1)\n",
    "list_1.pop(-1) # 取出倒數第二個\n",
    "print(list_1)"
   ]
  },
  {
   "cell_type": "markdown",
   "metadata": {},
   "source": [
    "#### 1.D.c 排序"
   ]
  },
  {
   "cell_type": "markdown",
   "metadata": {},
   "source": [
    "##### 1.D.c.i 由小到大"
   ]
  },
  {
   "cell_type": "code",
   "execution_count": 47,
   "metadata": {},
   "outputs": [
    {
     "name": "stdout",
     "output_type": "stream",
     "text": [
      "[30, 50, 60, 70]\n",
      "['A', 'B', 'C', 'F']\n"
     ]
    }
   ],
   "source": [
    "new_list = [50, 30, 60, 70]\n",
    "alpha_list = ['A', 'C', 'B', 'F']\n",
    "new_list.sort()\n",
    "alpha_list.sort()\n",
    "print(new_list)\n",
    "print(alpha_list)"
   ]
  },
  {
   "cell_type": "markdown",
   "metadata": {},
   "source": [
    "##### 1.D.c.ii 由大到小"
   ]
  },
  {
   "cell_type": "code",
   "execution_count": 48,
   "metadata": {},
   "outputs": [
    {
     "name": "stdout",
     "output_type": "stream",
     "text": [
      "[70, 60, 30, 50]\n",
      "['F', 'B', 'C', 'A']\n"
     ]
    }
   ],
   "source": [
    "new_list = [50, 30, 60, 70]\n",
    "alpha_list = ['A', 'C', 'B', 'F']\n",
    "new_list.reverse()\n",
    "alpha_list.reverse()\n",
    "print(new_list)\n",
    "print(alpha_list)"
   ]
  },
  {
   "cell_type": "markdown",
   "metadata": {},
   "source": [
    "### 1.E 二維list"
   ]
  },
  {
   "cell_type": "code",
   "execution_count": 49,
   "metadata": {},
   "outputs": [
    {
     "name": "stdout",
     "output_type": "stream",
     "text": [
      "[[1, 2, 3], [4, 5, 6], [7, 8, 9]]\n",
      "---\n",
      "[1, 2, 3]\n",
      "---\n",
      "3\n"
     ]
    }
   ],
   "source": [
    "first_list  = [1, 2, 3]\n",
    "second_list = [4, 5, 6]\n",
    "third_list  = [7, 8, 9]\n",
    "nested_list = [first_list, second_list, third_list]\n",
    "print(nested_list)\n",
    "print('---')\n",
    "print(nested_list[0])\n",
    "print('---')\n",
    "print(nested_list[0][2])"
   ]
  },
  {
   "cell_type": "markdown",
   "metadata": {},
   "source": [
    "## 2. Dictionary"
   ]
  },
  {
   "cell_type": "markdown",
   "metadata": {},
   "source": [
    "### 2.A Create Dist"
   ]
  },
  {
   "cell_type": "markdown",
   "metadata": {},
   "source": [
    "#### 2.A.a 宣告"
   ]
  },
  {
   "cell_type": "code",
   "execution_count": 50,
   "metadata": {},
   "outputs": [
    {
     "name": "stdout",
     "output_type": "stream",
     "text": [
      "---student_dict---\n",
      "{'Jane': 90, 'Jack': 80}\n",
      "---Jane's value---\n",
      "90\n"
     ]
    }
   ],
   "source": [
    "students_dict = {'Jane': 90, 'Jack': 80}\n",
    "print(\"---student_dict---\")\n",
    "print(students_dict)\n",
    "print(\"---Jane's value---\")\n",
    "print(students_dict['Jane'])"
   ]
  },
  {
   "cell_type": "code",
   "execution_count": 51,
   "metadata": {},
   "outputs": [
    {
     "name": "stdout",
     "output_type": "stream",
     "text": [
      "--Ken的分數---\n",
      "90\n",
      "---Ken喜歡的水果內的蘋果---\n",
      "10\n"
     ]
    }
   ],
   "source": [
    "# dictionary的value可為多種型態如list, 甚至是nested dict.\n",
    "info_dict = {\n",
    "    'name': 'Ken', \n",
    "    'age': 20,\n",
    "    'grades': [90, 80, 80],\n",
    "    'fav_fruits': {\n",
    "        'apple': 10, \n",
    "        'banana': 20\n",
    "    }\n",
    "}\n",
    "print('--Ken的分數---')\n",
    "print(info_dict['grades'][0])\n",
    "print('---Ken喜歡的水果內的蘋果---')\n",
    "print(info_dict['fav_fruits']['apple'])"
   ]
  },
  {
   "cell_type": "markdown",
   "metadata": {},
   "source": [
    "#### 2.A.b 增加項目"
   ]
  },
  {
   "cell_type": "code",
   "execution_count": 52,
   "metadata": {},
   "outputs": [
    {
     "name": "stdout",
     "output_type": "stream",
     "text": [
      "{'name': 'Ken', 'age': 20, 'grades': [90, 80, 80], 'fav_fruits': {'apple': 10, 'banana': 20}, 'fav_sport': 'baseball'}\n"
     ]
    }
   ],
   "source": [
    "info_dict['fav_sport'] = 'baseball'\n",
    "print(info_dict)"
   ]
  },
  {
   "cell_type": "markdown",
   "metadata": {},
   "source": [
    "#### 2.A.c 移除項目"
   ]
  },
  {
   "cell_type": "code",
   "execution_count": 53,
   "metadata": {},
   "outputs": [
    {
     "data": {
      "text/plain": [
       "{'age': 20,\n",
       " 'fav_fruits': {'apple': 10, 'banana': 20},\n",
       " 'fav_sport': 'baseball',\n",
       " 'grades': [90, 80, 80]}"
      ]
     },
     "execution_count": 53,
     "metadata": {},
     "output_type": "execute_result"
    }
   ],
   "source": [
    "info_dict.pop('name')\n",
    "info_dict"
   ]
  },
  {
   "cell_type": "markdown",
   "metadata": {},
   "source": [
    "#### 2.A.d 更改項目的value"
   ]
  },
  {
   "cell_type": "code",
   "execution_count": 54,
   "metadata": {},
   "outputs": [
    {
     "name": "stdout",
     "output_type": "stream",
     "text": [
      "{'age': 21, 'grades': [90, 80, 80], 'fav_fruits': {'apple': 10, 'banana': 20}, 'fav_sport': 'baseball'}\n"
     ]
    }
   ],
   "source": [
    "info_dict['age'] = 21\n",
    "print(info_dict)"
   ]
  },
  {
   "cell_type": "markdown",
   "metadata": {},
   "source": [
    "### 2.B dict的方法"
   ]
  },
  {
   "cell_type": "markdown",
   "metadata": {},
   "source": [
    "#### 2.B.a 檢查所有key: dict.keys()"
   ]
  },
  {
   "cell_type": "code",
   "execution_count": 55,
   "metadata": {},
   "outputs": [
    {
     "data": {
      "text/plain": [
       "dict_keys(['age', 'grades', 'fav_fruits', 'fav_sport'])"
      ]
     },
     "execution_count": 55,
     "metadata": {},
     "output_type": "execute_result"
    }
   ],
   "source": [
    "info_dict.keys()"
   ]
  },
  {
   "cell_type": "markdown",
   "metadata": {},
   "source": [
    "#### 2.B.b 檢查所有value: dict.values()"
   ]
  },
  {
   "cell_type": "code",
   "execution_count": 56,
   "metadata": {},
   "outputs": [
    {
     "data": {
      "text/plain": [
       "dict_values([21, [90, 80, 80], {'apple': 10, 'banana': 20}, 'baseball'])"
      ]
     },
     "execution_count": 56,
     "metadata": {},
     "output_type": "execute_result"
    }
   ],
   "source": [
    "info_dict.values()"
   ]
  }
 ],
 "metadata": {
  "kernelspec": {
   "display_name": "Python 3",
   "language": "python",
   "name": "python3"
  },
  "language_info": {
   "codemirror_mode": {
    "name": "ipython",
    "version": 3
   },
   "file_extension": ".py",
   "mimetype": "text/x-python",
   "name": "python",
   "nbconvert_exporter": "python",
   "pygments_lexer": "ipython3",
   "version": "3.6.4"
  }
 },
 "nbformat": 4,
 "nbformat_minor": 2
}
